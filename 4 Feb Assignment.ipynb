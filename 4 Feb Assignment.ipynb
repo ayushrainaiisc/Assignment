{
 "cells": [
  {
   "cell_type": "code",
   "execution_count": 10,
   "id": "78bb04f2-cc14-447b-a9b9-ce0a66b09877",
   "metadata": {},
   "outputs": [],
   "source": [
    "\"\"\"Q1. Create a python program to sort the given list of tuples based on integer value using a\n",
    "lambda function.\n",
    "[('Sachin Tendulkar', 34357), ('Ricky Ponting', 27483), ('Jack Kallis', 25534), ('Virat Kohli', 24936)]\"\"\""
   ]
  },
  {
   "cell_type": "code",
   "execution_count": 11,
   "id": "ef68ab81-ca41-45b3-9161-16c846d169cc",
   "metadata": {},
   "outputs": [],
   "source": [
    "t = [('Sachin Tendulkar', 34357), ('Ricky Ponting', 27483), ('Jack Kallis', 25534), ('Virat Kohli', 24936)]"
   ]
  },
  {
   "cell_type": "code",
   "execution_count": 12,
   "id": "99dabe01-5fd4-4106-83d9-dacb36cf08ab",
   "metadata": {},
   "outputs": [],
   "source": [
    "l = [5,4,3,2,1]\n",
    "# lets try see to first how to sort an simple array usig lambda function"
   ]
  },
  {
   "cell_type": "code",
   "execution_count": 13,
   "id": "5531b688-0070-4065-8c68-2c386d6547e4",
   "metadata": {},
   "outputs": [],
   "source": [
    "l_sort = sorted(l, key = lambda x : x)"
   ]
  },
  {
   "cell_type": "code",
   "execution_count": 14,
   "id": "eefcbcc3-927e-4c24-b19e-cb7aa1cc8b9d",
   "metadata": {},
   "outputs": [
    {
     "data": {
      "text/plain": [
       "[1, 2, 3, 4, 5]"
      ]
     },
     "execution_count": 14,
     "metadata": {},
     "output_type": "execute_result"
    }
   ],
   "source": [
    "l_sort"
   ]
  },
  {
   "cell_type": "code",
   "execution_count": 15,
   "id": "e1fe49e2-f291-40f1-86da-0fc8883e5192",
   "metadata": {},
   "outputs": [],
   "source": [
    "# now lets sort that tuple\n",
    "t_sorted = sorted(t, key = lambda x : x[1])"
   ]
  },
  {
   "cell_type": "code",
   "execution_count": 16,
   "id": "dc54c9b8-e494-41aa-bb7b-599a4dab747b",
   "metadata": {},
   "outputs": [
    {
     "data": {
      "text/plain": [
       "[('Virat Kohli', 24936),\n",
       " ('Jack Kallis', 25534),\n",
       " ('Ricky Ponting', 27483),\n",
       " ('Sachin Tendulkar', 34357)]"
      ]
     },
     "execution_count": 16,
     "metadata": {},
     "output_type": "execute_result"
    }
   ],
   "source": [
    "t_sorted\n",
    "# here answer is printed"
   ]
  },
  {
   "cell_type": "code",
   "execution_count": null,
   "id": "08a8ea71-2c9a-4dcb-abd0-f0d80d233b80",
   "metadata": {},
   "outputs": [],
   "source": []
  },
  {
   "cell_type": "code",
   "execution_count": null,
   "id": "9c4c8856-7828-4dbf-8905-3c9477abe1b7",
   "metadata": {},
   "outputs": [],
   "source": [
    "\"\"\"Q2. Write a Python Program to find the squares of all the numbers in the given list of integers using\n",
    "lambda and map functions.\"\"\""
   ]
  },
  {
   "cell_type": "code",
   "execution_count": 35,
   "id": "09f0ef65-62d6-45dd-b570-b64bb93ecefc",
   "metadata": {},
   "outputs": [
    {
     "data": {
      "text/plain": [
       "[1, 4, 9, 16, 25, 36, 49, 64, 81, 100]"
      ]
     },
     "execution_count": 35,
     "metadata": {},
     "output_type": "execute_result"
    }
   ],
   "source": [
    "\n",
    "arr = [1,2,3,4,5,6,7,8,9,10]\n",
    "# using map function\n",
    "def square(n):\n",
    "    return n**2\n",
    "\n",
    "list(map(square, arr))\n",
    "\n",
    "# Method 2\n",
    "\n"
   ]
  },
  {
   "cell_type": "code",
   "execution_count": 39,
   "id": "2786fd0a-4332-49da-99dc-7c9f41becb0c",
   "metadata": {},
   "outputs": [
    {
     "data": {
      "text/plain": [
       "[1, 4, 9, 16, 25, 36, 49, 64, 81, 100]"
      ]
     },
     "execution_count": 39,
     "metadata": {},
     "output_type": "execute_result"
    }
   ],
   "source": [
    "# Method 2\n",
    "# using Lambda and map functions together\n",
    "\n",
    "list(map(lambda x : x**2, arr))\n",
    "# one liner"
   ]
  },
  {
   "cell_type": "code",
   "execution_count": null,
   "id": "8bfa5f3d-fbf4-4703-9e5d-5c1d67d3264b",
   "metadata": {},
   "outputs": [],
   "source": []
  },
  {
   "cell_type": "code",
   "execution_count": 42,
   "id": "77f53063-02b5-4d96-bd06-481d6b5c6b47",
   "metadata": {},
   "outputs": [
    {
     "data": {
      "text/plain": [
       "('1', '2', '3', '4', '5', '6', '7', '8', '9', '10')"
      ]
     },
     "execution_count": 42,
     "metadata": {},
     "output_type": "execute_result"
    }
   ],
   "source": [
    "\"\"\"Q3. Write a python program to convert the given list of integers into a tuple of strings. Use map and\n",
    "lambda functions\n",
    "Given String: [1, 2, 3, 4, 5, 6, 7, 8, 9, 10]\n",
    "Expected output: ('1', '2', '3', '4', '5', '6', '7', '8', '9', '10')\n",
    "\"\"\"\n",
    "int_list = [1, 2, 3, 4, 5, 6, 7, 8, 9, 10]\n",
    "tuple(map(lambda x : str(x), int_list))\n",
    "# done"
   ]
  },
  {
   "cell_type": "code",
   "execution_count": null,
   "id": "ed2b95e4-ca97-4374-8ced-3e8376b4b589",
   "metadata": {},
   "outputs": [],
   "source": []
  },
  {
   "cell_type": "code",
   "execution_count": 47,
   "id": "caf7bd8b-9ec6-4f8a-b979-39e154f8ea4d",
   "metadata": {},
   "outputs": [
    {
     "data": {
      "text/plain": [
       "15511210043330985984000000"
      ]
     },
     "execution_count": 47,
     "metadata": {},
     "output_type": "execute_result"
    }
   ],
   "source": [
    "\"\"\"Q4. Write a python program using reduce function to compute the product of a list containing numbers\n",
    "from 1 to 25.\"\"\"\n",
    "from functools import reduce\n",
    "\n",
    "# Method 1\n",
    "arr_25 = [i for i in range(1,26)] # here i got list of integers till 25\n",
    "reduce(lambda x,y : x*y, arr_25)\n"
   ]
  },
  {
   "cell_type": "code",
   "execution_count": 50,
   "id": "e1a796f2-3632-4232-9ef1-e3e16cbd0af7",
   "metadata": {},
   "outputs": [
    {
     "data": {
      "text/plain": [
       "[6, 60, 90, 120]"
      ]
     },
     "execution_count": 50,
     "metadata": {},
     "output_type": "execute_result"
    }
   ],
   "source": [
    "\"\"\"Q5. Write a python program to filter the numbers in a given list that are divisible by 2 and 3 using the\n",
    "filter function.\n",
    "[2, 3, 6, 9, 27, 60, 90, 120, 55, 46]\"\"\"\n",
    "\n",
    "# i am assuming question says divisible by 2 and 3 both.\n",
    "arr_random = [2, 3, 6, 9, 27, 60, 90, 120, 55, 46]\n",
    "list(filter(lambda x : x % 2 == 0 and x % 3 == 0, arr_random))"
   ]
  },
  {
   "cell_type": "code",
   "execution_count": 56,
   "id": "96e90993-841b-4dea-99ee-1dd9993a24c9",
   "metadata": {},
   "outputs": [
    {
     "data": {
      "text/plain": [
       "['php', 'aba', 'radar', 'level']"
      ]
     },
     "execution_count": 56,
     "metadata": {},
     "output_type": "execute_result"
    }
   ],
   "source": [
    "\"\"\"Q6. Write a python program to find palindromes in the given list of strings using lambda and filter\n",
    "function.\n",
    "['python', 'php', 'aba', 'radar', 'level']\"\"\"\n",
    "\n",
    "strings = ['python', 'php', 'aba', 'radar', 'level']\n",
    "\n",
    "list(filter(lambda x : x == x[::-1], strings))\n",
    " "
   ]
  },
  {
   "cell_type": "code",
   "execution_count": null,
   "id": "6a98bcaa-3f0a-464c-b740-2d8722b964de",
   "metadata": {},
   "outputs": [],
   "source": []
  }
 ],
 "metadata": {
  "kernelspec": {
   "display_name": "Python 3 (ipykernel)",
   "language": "python",
   "name": "python3"
  },
  "language_info": {
   "codemirror_mode": {
    "name": "ipython",
    "version": 3
   },
   "file_extension": ".py",
   "mimetype": "text/x-python",
   "name": "python",
   "nbconvert_exporter": "python",
   "pygments_lexer": "ipython3",
   "version": "3.10.8"
  }
 },
 "nbformat": 4,
 "nbformat_minor": 5
}
