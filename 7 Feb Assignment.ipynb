{
 "cells": [
  {
   "cell_type": "code",
   "execution_count": 2,
   "id": "df1843e1-4dae-42ae-a7b9-e7b651f8d4d8",
   "metadata": {},
   "outputs": [
    {
     "name": "stdout",
     "output_type": "stream",
     "text": [
      "\n"
     ]
    }
   ],
   "source": [
    "\"\"\" Q2. Solve the below-given questions using at least one of the following:\n",
    "1. Lambda function\n",
    "2. Filter function\n",
    "3. Zap function\n",
    "4. List Comprehension \"\"\"\n",
    "print(\"\")"
   ]
  },
  {
   "cell_type": "code",
   "execution_count": 37,
   "id": "94fdd95c-560f-405c-b355-7667e87016c7",
   "metadata": {},
   "outputs": [
    {
     "name": "stdin",
     "output_type": "stream",
     "text": [
      "Enter special characters without space idh2ofh\n",
      "Enter your string sexy\n"
     ]
    },
    {
     "name": "stdout",
     "output_type": "stream",
     "text": [
      "No it does not start from special character\n"
     ]
    }
   ],
   "source": [
    "\"\"\" ~ Check if the string starts with a particular letter \"\"\"\n",
    "\n",
    "# i will take string and special characters input as list\n",
    "specials = input(\"Enter special characters without space\")\n",
    "string = input(\"Enter your string\")\n",
    "\n",
    "specials = [i for i in specials] # List Comprehension\n",
    "string = [j for j in string]\n",
    "for i in specials:\n",
    "    if string[0] == i:\n",
    "        print(\"Yes it started from one of special characters\")\n",
    "        print(\"That special character is \",i)\n",
    "        break\n",
    "else:\n",
    "    print(\"No it does not start from special character\")\n",
    "        \n",
    "\n",
    "\n"
   ]
  },
  {
   "cell_type": "code",
   "execution_count": 83,
   "id": "225b2d25-f5f4-44a6-a3ec-208ff5d23f6c",
   "metadata": {},
   "outputs": [
    {
     "name": "stdin",
     "output_type": "stream",
     "text": [
      "Enter your string ays12\n"
     ]
    },
    {
     "name": "stdout",
     "output_type": "stream",
     "text": [
      "Entered string is not numeric\n"
     ]
    }
   ],
   "source": [
    "\"\"\" ~ Check if the string is numeric \"\"\"\n",
    "\n",
    "a = input(\"Enter your string\")\n",
    "a = [i for i in a]\n",
    "\n",
    "def separate(x):\n",
    "    for i in \"0123456789\":\n",
    "        if i == x:\n",
    "            x = int(x)\n",
    "            return x\n",
    "    else:\n",
    "        return x\n",
    "\n",
    "b = list(map(separate,a)) # used map function here\n",
    "for i in b:\n",
    "    if type(i) == str:\n",
    "        print(\"Entered string is not numeric\")\n",
    "        break\n",
    "else:\n",
    "    print(\"Entered string is numeric\")\n"
   ]
  },
  {
   "cell_type": "code",
   "execution_count": 87,
   "id": "828c1764-6a0c-4739-ada0-8566d693de27",
   "metadata": {},
   "outputs": [
    {
     "name": "stdout",
     "output_type": "stream",
     "text": [
      "[('grapes', 1000), ('mango', 99), ('orange', 80)]\n",
      "[('orange', 80), ('mango', 99), ('grapes', 1000)]\n"
     ]
    }
   ],
   "source": [
    "\"\"\"Sort a list of tuples having fruit names and their quantity. [(\"mango\",99),(\"orange\",80), (\"grapes\", 1000)]\"\"\"\n",
    "given_list = [(\"mango\",99),(\"orange\",80), (\"grapes\", 1000)]\n",
    "\n",
    "sort_list_fruits = sorted(given_list, key = lambda x : x[0]) #by alphabetical\n",
    "sort_list_quantity = sorted(given_list, key = lambda x : x[1]) #by quantity\n",
    "\n",
    "\"\"\"Lambda function used here\"\"\"\n",
    "\n",
    "print(sort_list_fruits)\n",
    "print(sort_list_quantity)"
   ]
  },
  {
   "cell_type": "code",
   "execution_count": 90,
   "id": "026ba8f2-2b86-4d42-af53-066dff28a16b",
   "metadata": {},
   "outputs": [
    {
     "data": {
      "text/plain": [
       "[1, 4, 9, 16, 25, 36, 49, 64, 81, 100]"
      ]
     },
     "execution_count": 90,
     "metadata": {},
     "output_type": "execute_result"
    }
   ],
   "source": [
    "\"\"\"Find the squares of numbers from 1 to 10\"\"\"\n",
    "c = [i for i in range(1,11)]\n",
    "d = list(map(lambda x : x**2, c))\n",
    "d\n",
    "\"\"\"lambda and map used here\"\"\""
   ]
  },
  {
   "cell_type": "code",
   "execution_count": 92,
   "id": "0fa3ed6d-f458-473e-b048-e2372938a2fc",
   "metadata": {},
   "outputs": [
    {
     "data": {
      "text/plain": [
       "[1.0,\n",
       " 1.2599210498948732,\n",
       " 1.4422495703074083,\n",
       " 1.5874010519681994,\n",
       " 1.7099759466766968,\n",
       " 1.8171205928321397,\n",
       " 1.912931182772389,\n",
       " 2.0,\n",
       " 2.080083823051904,\n",
       " 2.154434690031884]"
      ]
     },
     "execution_count": 92,
     "metadata": {},
     "output_type": "execute_result"
    }
   ],
   "source": [
    "\"\"\"Find the cube root of numbers from 1 to 10\"\"\"\n",
    "e = list(map(lambda x : x**(1/3),c))\n",
    "e\n",
    "\"\"\"again lambda and map used\"\"\""
   ]
  },
  {
   "cell_type": "code",
   "execution_count": 98,
   "id": "ea5d38b9-c334-4f37-8abf-9860578fdf88",
   "metadata": {},
   "outputs": [
    {
     "name": "stdin",
     "output_type": "stream",
     "text": [
      "Enter your number  45\n"
     ]
    },
    {
     "name": "stdout",
     "output_type": "stream",
     "text": [
      "No number is not even\n"
     ]
    }
   ],
   "source": [
    "\"\"\"Check if a given number is even\"\"\"\n",
    "\n",
    "# lambda used here\n",
    "\n",
    "f = int(input(\"Enter your number \"))\n",
    "g = lambda x : x % 2 == 0\n",
    "if g(f) == True:\n",
    "    print(\"Yes number is even\")\n",
    "else:\n",
    "    print(\"No number is not even\")"
   ]
  },
  {
   "cell_type": "code",
   "execution_count": 100,
   "id": "8f6d62ec-0e89-433c-ba1f-222a87797f16",
   "metadata": {},
   "outputs": [
    {
     "data": {
      "text/plain": [
       "[1, 3, 5, 7, 9]"
      ]
     },
     "execution_count": 100,
     "metadata": {},
     "output_type": "execute_result"
    }
   ],
   "source": [
    "\"\"\"Filter odd numbers from the given list.\n",
    "[1,2,3,4,5,6,7,8,9,10]\"\"\"\n",
    "\n",
    "arr = [1,2,3,4,5,6,7,8,9,10]\n",
    "odd_nums = list(filter(lambda x : x % 2 != 0, arr))\n",
    "odd_nums\n",
    "\n",
    "# lambda and filter used here"
   ]
  },
  {
   "cell_type": "code",
   "execution_count": 102,
   "id": "d5361397-79cf-481a-8436-048e9d0728cb",
   "metadata": {},
   "outputs": [
    {
     "name": "stdout",
     "output_type": "stream",
     "text": [
      "[1, 2, 3, 4, 5, 6, 0] [-1, -2, -3, -4, -5]\n"
     ]
    }
   ],
   "source": [
    "\"\"\" Sort a list of integers into positive and negative integers lists.\n",
    "[1,2,3,4,5,6,-1,-2,-3,-4,-5,0]\"\"\"\n",
    "arr_2 = [1,2,3,4,5,6,-1,-2,-3,-4,-5,0]\n",
    "positives = list(filter(lambda x : x >= 0, arr_2))\n",
    "negatives = list(filter(lambda x : x < 0, arr_2))\n",
    "print(positives,negatives)\n",
    "\n",
    "# here also used lambda and filter"
   ]
  },
  {
   "cell_type": "code",
   "execution_count": 104,
   "id": "b6eade52-4e81-4285-acd7-b59f81cffe01",
   "metadata": {},
   "outputs": [
    {
     "name": "stdout",
     "output_type": "stream",
     "text": [
      "\n"
     ]
    }
   ],
   "source": [
    "\n",
    "\n",
    "\"\"\" Question 2 is Completed \"\"\"\n",
    "print(\"\")\n",
    "\n",
    "\n"
   ]
  },
  {
   "cell_type": "code",
   "execution_count": 35,
   "id": "1a02dbec-bf14-41d2-949c-59f97bd3bed6",
   "metadata": {},
   "outputs": [
    {
     "name": "stdin",
     "output_type": "stream",
     "text": [
      "Enter your password wipefdcIH0934z()*&\n"
     ]
    },
    {
     "name": "stdout",
     "output_type": "stream",
     "text": [
      "Yes your password is upto 10 characters\n",
      "Yes there is atleast one number in password\n",
      "Yes your password has required number of upper case letters\n",
      "Yes your password has required number of lower case letters\n",
      "Yes your password has required number of special characters\n"
     ]
    },
    {
     "data": {
      "text/plain": [
       "'Valid Password'"
      ]
     },
     "execution_count": 35,
     "metadata": {},
     "output_type": "execute_result"
    }
   ],
   "source": [
    "\"\"\"Q1. You are writing code for a company. The requirement of the company is that you create a python\n",
    "function that will check whether the password entered by the user is correct or not. The function should\n",
    "take the password as input and return the string “Valid Password” if the entered password follows the\n",
    "below-given password guidelines else it should return “Invalid Password”.\n",
    "\n",
    "Note: 1. The Password should contain at least two uppercase letters and at least two lowercase letters.\n",
    "2. The Password should contain at least a number and three special characters.\n",
    "3. The length of the password should be 10 characters long.\"\"\"\n",
    "\n",
    "def filter_alphabets(temp):\n",
    "    \"\"\"After checking for numbers this filter out numbers from list so that we can proceed further\"\"\"\n",
    "    return list(filter(lambda x : type(x) == str, temp))\n",
    "\n",
    "def change_str_to_int(arr):\n",
    "    \"\"\" This changes data type of integers from string to int again\"\"\"\n",
    "    return list(map(change_datatype_int,arr))\n",
    "    \n",
    "\n",
    "def filter_numbers(arr):\n",
    "    \"\"\"This filters array remaining numbers only behind \"\"\"\n",
    "    return list(filter(lambda x : type(x) == int, arr))\n",
    "\n",
    "def change_datatype_int(x):\n",
    "    \"\"\" This is made to change integers to their original data type: int\"\"\"\n",
    "\n",
    "    if x in \"0123456789\":\n",
    "        x = int(x)\n",
    "        return x\n",
    "    else:\n",
    "        return x\n",
    "    \n",
    "\n",
    "def special_characters(password):\n",
    "    \"\"\" checks are there required number of special characters\"\"\"\n",
    "    x = len(password)\n",
    "    count = 0\n",
    "    for i in password:\n",
    "        if i in \"abcdefghijklmnopqrstuvwxyz\" or i in \"ABCDEFGHIJKLMNOPQRSTUVWXYZ\":\n",
    "            count += 1\n",
    "            \n",
    "    if x - count >= 3:\n",
    "        return True\n",
    "    else:\n",
    "        return False\n",
    "    \n",
    "    \n",
    "def is_2_lowercase(password):\n",
    "    \"\"\"returns True if there are required number of lower case letters\"\"\"\n",
    "   \n",
    "    count_lower_case = 0\n",
    "    for i in password:\n",
    "        if i in \"abcdefghijklmnopqrstuvwxyz\":\n",
    "            count_lower_case += 1\n",
    "    if count_lower_case >= 2:\n",
    "        return True\n",
    "    else :\n",
    "        return False\n",
    "\n",
    "def is_2_uppercase(password):\n",
    "    \"\"\"returns True if there are required number of upper case letters\"\"\"\n",
    "    \n",
    "    count_upper_case = 0\n",
    "\n",
    "    for i in password:\n",
    "        if i in \"ABCDEFGHIJKLMNOPQRSTUVWXYZ\":\n",
    "            count_upper_case += 1\n",
    "    if count_upper_case >= 2:\n",
    "        return True\n",
    "    else :\n",
    "        return False\n",
    "\n",
    "def is_integer(c):\n",
    "    \"\"\"Checks length of filtered integer lists\"\"\"\n",
    "    if len(c) != 0:\n",
    "        return True\n",
    "    else:\n",
    "        return False\n",
    "\n",
    "def length(password):\n",
    "    \"\"\"For checking length of password\"\"\"\n",
    "    \n",
    "    if len(password) < 10:\n",
    "        return False\n",
    "    else:\n",
    "        return True\n",
    "\n",
    "def is_correct(password):\n",
    "    a = \"Valid Password\"\n",
    "    b = \"Invalid Password\"\n",
    "    \n",
    "    # makes list of all elements of passwords\n",
    "    c = [i for i in password]\n",
    "    \n",
    "    # this changed str data type of integers again to int\n",
    "    c = change_str_to_int(c)\n",
    "    \n",
    "    \n",
    "    # this is created for future use\n",
    "    temp = c    \n",
    "    \n",
    "    # this filters the integers from pass word\n",
    "    c = filter_numbers(c)\n",
    "       \n",
    "    # this removes integers from list leaving alphabets and special characters behind\n",
    "    d = filter_alphabets(temp)\n",
    "    \n",
    "    \n",
    "    # Check for length\n",
    "    if length(password):\n",
    "        print(\"Yes your password is upto 10 characters\")\n",
    "    else:\n",
    "        print(\"No your password does not matches required length\")\n",
    "        return b\n",
    "\n",
    "\n",
    "    # Check for a number in password\n",
    "    if is_integer(c):\n",
    "        print(\"Yes there is atleast one number in password\")\n",
    "    else:\n",
    "        print(\"There is no number used in this password\")\n",
    "        return b\n",
    "    \n",
    "    # Check for upper case letter\n",
    "    if is_2_uppercase(d):\n",
    "        print(\"Yes your password has required number of upper case letters\")\n",
    "    else:\n",
    "        print(\"Your password does not have required number of upper case letters\")\n",
    "        return b\n",
    "    \n",
    "    # check for lowercase letters\n",
    "    if is_2_lowercase(d):\n",
    "        print(\"Yes your password has required number of lower case letters\")\n",
    "    else:\n",
    "        print(\"Your password does not have required number of lower case letters\")\n",
    "        return b\n",
    "    \n",
    "    \n",
    "    # Check for atleast 3 special characters\n",
    "    if special_characters(d):\n",
    "        print(\"Yes your password has required number of special characters\")\n",
    "    else:\n",
    "        print(\"Password does not have required number of special characters\")\n",
    "        return b\n",
    "    \n",
    "    return a\n",
    "\n",
    "\n",
    "xyz = input(\"Enter your password\")\n",
    "is_correct(xyz)\n",
    "\n",
    "\n",
    "\n",
    "\n"
   ]
  },
  {
   "cell_type": "markdown",
   "id": "ccb4057d-c97f-4828-bb50-3aa2949efbc3",
   "metadata": {},
   "source": [
    "### "
   ]
  }
 ],
 "metadata": {
  "kernelspec": {
   "display_name": "Python 3 (ipykernel)",
   "language": "python",
   "name": "python3"
  },
  "language_info": {
   "codemirror_mode": {
    "name": "ipython",
    "version": 3
   },
   "file_extension": ".py",
   "mimetype": "text/x-python",
   "name": "python",
   "nbconvert_exporter": "python",
   "pygments_lexer": "ipython3",
   "version": "3.10.8"
  }
 },
 "nbformat": 4,
 "nbformat_minor": 5
}
