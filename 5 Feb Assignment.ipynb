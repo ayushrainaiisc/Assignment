{
 "cells": [
  {
   "cell_type": "code",
   "execution_count": 2,
   "id": "c60d6d03-5062-4c1e-a110-2f7e1f2f8e60",
   "metadata": {},
   "outputs": [
    {
     "name": "stdout",
     "output_type": "stream",
     "text": [
      "\n"
     ]
    }
   ],
   "source": [
    "\"\"\"Q1. Explain Class and Object with respect to Object-Oriented Programming. Give a suitable example.\"\"\"\n",
    "\n",
    "# Solution\n",
    "\"\"\"Class is a skeleton or blueprint of object.Every particular type of object in the class have a set of attributes(data) and behaviours\n",
    "(methods) accordingly. Classes are fundamental concepts that one must master to enter object oriented programming, and is used to deal with\n",
    "real world objects and their behaviours\n",
    "Classes Maximises the reusability of code and defines a structure so that anyone will be able to understand code more easily\"\"\"\n",
    "\n",
    "\"\"\"Objects are instances of a class, it also has its own attributes and behaviours. It is created at run time and every object is unique\n",
    "instance of the class.Objects are essential part of object oriented programming\"\"\"\n",
    "\n",
    "\"\"\" Lets take a real world example to understand classes and objects\n",
    "I am considering a car, so it has attributes(data) like \"model\", \"speed\", \"year\" whereas it also has behaviours(methods) like \"start\",\n",
    "\"accelerate\", \"stop\".\n",
    "\n",
    "An instance of class car would be \"wagonR 2021\" with speed of 65mph\"\"\"\n",
    "\n",
    "print(\"\")"
   ]
  },
  {
   "cell_type": "code",
   "execution_count": null,
   "id": "63b507ff-18fe-4f42-b3f5-5c1e1a9704ef",
   "metadata": {},
   "outputs": [],
   "source": [
    "\n",
    "\n",
    "\n"
   ]
  },
  {
   "cell_type": "code",
   "execution_count": 4,
   "id": "b9b01547-e59a-4ff6-a2c3-33b4bf958b27",
   "metadata": {},
   "outputs": [
    {
     "name": "stdout",
     "output_type": "stream",
     "text": [
      "\n"
     ]
    }
   ],
   "source": [
    "\"\"\"Q2. Name the four pillars of OOPs.\"\"\"\n",
    "\n",
    "#Solution\n",
    "\"\"\" The Four pillars of Object Oriented Programming is \n",
    "Abstraction\n",
    "Encapsulation\n",
    "Inheritance\n",
    "Polymorphism\n",
    "\"\"\"\n",
    "\n",
    "print(\"\")"
   ]
  },
  {
   "cell_type": "code",
   "execution_count": null,
   "id": "9068636d-d675-4ded-8269-c6905acf2a0c",
   "metadata": {},
   "outputs": [],
   "source": [
    "\n",
    "\n",
    "\n"
   ]
  },
  {
   "cell_type": "code",
   "execution_count": 8,
   "id": "f92f880f-ecc4-4b61-8bfe-03edb24176f8",
   "metadata": {},
   "outputs": [
    {
     "name": "stdout",
     "output_type": "stream",
     "text": [
      "Hi  Rohan\n",
      "Hi  Mohan\n"
     ]
    }
   ],
   "source": [
    "\"\"\"Q3. Explain why the __init__() function is used. Give a suitable example.\"\"\"\n",
    "\n",
    "# Solution\n",
    "\"\"\" __init__() is a constructor. It is used to initialize the state of object. Whenever the object of the class is created then task \n",
    "of constructor is to initialize them with data\n",
    "We will understand this with below example\n",
    "\"\"\" \n",
    "\n",
    "class Person():\n",
    "    \n",
    "    def __init__(self, name, age):\n",
    "        self.name = name\n",
    "        self.age = age\n",
    "        \n",
    "    def hello(self):\n",
    "        print(\"Hi \", self.name)\n",
    "        \n",
    "rohan = Person(\"Rohan\",23)\n",
    "mohan = Person(\"Mohan\",34)\n",
    "\n",
    "rohan.hello()\n",
    "mohan.hello()\n",
    "\n",
    "# Here rohan, mohan were passed as argument and init has initialized the object. In this way we can add as many object we can\n",
    "        "
   ]
  },
  {
   "cell_type": "code",
   "execution_count": null,
   "id": "0a71c331-8276-4930-9a27-5fd71d7ae4b3",
   "metadata": {},
   "outputs": [],
   "source": [
    "\n",
    "\n",
    "\n",
    "\n"
   ]
  },
  {
   "cell_type": "code",
   "execution_count": 10,
   "id": "86deff81-bf14-4e3f-9fba-54f34a820639",
   "metadata": {},
   "outputs": [
    {
     "name": "stdout",
     "output_type": "stream",
     "text": [
      "\n"
     ]
    }
   ],
   "source": [
    "\"\"\"Q4. Why self is used in OOPs?\"\"\"\n",
    "\n",
    "# Solution\n",
    "\"\"\" Self is not a fixed keyword, we can use any other word in place of this. It basically represents instance and it is used to\n",
    "access class variables inside the class, outside the class self keyword is not used.\n",
    "It is necessary that self must be provided as first argument to constructor and instance method otherwise it will cause error\"\"\"\n",
    "\n",
    "print(\"\")"
   ]
  },
  {
   "cell_type": "code",
   "execution_count": null,
   "id": "a544166f-1447-40fc-a2e3-f1a1518d402a",
   "metadata": {},
   "outputs": [],
   "source": [
    "\n",
    "\n",
    "\n",
    "\n"
   ]
  },
  {
   "cell_type": "code",
   "execution_count": 11,
   "id": "12c9ead9-d04c-49bf-ab23-2240d5f3f756",
   "metadata": {},
   "outputs": [
    {
     "name": "stdout",
     "output_type": "stream",
     "text": [
      " \n"
     ]
    }
   ],
   "source": [
    "\"\"\" Q5. What is inheritance? Give an example for each type of inheritance.\"\"\"\n",
    "\n",
    "\n",
    "# Solution\n",
    "\"\"\" Inheritence can be called as a link between different classes. Inheritence is used whenever there exists a relation between two classes.\n",
    "There are different types of inheritance. Mainly there are 5 types of inheritance.\n",
    "\n",
    "Single Inheritance\n",
    "Multiple Inheritance\n",
    "Multilevel Inheritance\n",
    "Hierarchical Inheritance\n",
    "Hybrid Inheritance\n",
    "\n",
    "Single Inheritance :- in this a class inherits properties from a parent class\n",
    "\n",
    "Multiple Inheritance :- in this a class inherits properties from one or more parent classes\n",
    "\n",
    "Multilevel Inheritance :- in this class suppose class B inherits properties from parent class A, then some other class C inherits properties\n",
    "from class B as parent class\n",
    "\n",
    "Hierarchical Inheritance :- when one parent class can be used to create one or more child classes\n",
    "\n",
    "Hybrid Inheritance :- this contains multiple types of inheritance or we can say it contains all 4 above inheritance types in combined way\n",
    "\n",
    "\"\"\"\n",
    "print(\" \")"
   ]
  },
  {
   "cell_type": "code",
   "execution_count": null,
   "id": "901314e7-bdbd-4044-b215-58f887548bd9",
   "metadata": {},
   "outputs": [],
   "source": []
  }
 ],
 "metadata": {
  "kernelspec": {
   "display_name": "Python 3 (ipykernel)",
   "language": "python",
   "name": "python3"
  },
  "language_info": {
   "codemirror_mode": {
    "name": "ipython",
    "version": 3
   },
   "file_extension": ".py",
   "mimetype": "text/x-python",
   "name": "python",
   "nbconvert_exporter": "python",
   "pygments_lexer": "ipython3",
   "version": "3.10.8"
  }
 },
 "nbformat": 4,
 "nbformat_minor": 5
}
