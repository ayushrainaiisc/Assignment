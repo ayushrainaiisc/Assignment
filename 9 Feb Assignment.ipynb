{
 "cells": [
  {
   "cell_type": "code",
   "execution_count": 130,
   "id": "feb13389-0573-45c9-89af-7f41877b3019",
   "metadata": {},
   "outputs": [],
   "source": [
    "\"\"\" Q1 Create a vehicle class with an init method having instance variables as name_of_vehicle, max_speed\n",
    "and average_of_vehicle. \"\"\"\n",
    "\n",
    "class vehicle:\n",
    "    \n",
    "    def __init__(self, name_of_vehicle, max_speed, average_speed):\n",
    "        \n",
    "        self.name_of_vehicle = name_of_vehicle\n",
    "        self.max_speed = max_speed\n",
    "        self.average_speed = average_speed\n",
    "        \n",
    "    "
   ]
  },
  {
   "cell_type": "code",
   "execution_count": 160,
   "id": "77c5dc74-5283-469d-aaf8-ce8eff6e9cd8",
   "metadata": {},
   "outputs": [],
   "source": [
    "\"\"\" Q2. Create a child class car from the vehicle class created in Que 1, which will inherit the vehicle class.\n",
    "Create a method named seating_capacity which takes capacity as an argument and returns the name of\n",
    "the vehicle and its seating capacity. \"\"\"\n",
    "\n",
    "class child(vehicle):\n",
    "    \n",
    "    def __init__(self, capacity, name_of_vehicle, max_speed, average_speed):\n",
    "        self.capacity = capacity\n",
    "       \n",
    "        vehicle.__init__(self, name_of_vehicle, max_speed, average_speed)  #invoking constructor\n",
    "        \n",
    "\n",
    "        \n",
    "    def return_details(self):\n",
    "        return self.name_of_vehicle, self.capacity"
   ]
  },
  {
   "cell_type": "code",
   "execution_count": 161,
   "id": "a404d9d6-0495-4003-84f2-32d00ea8b12e",
   "metadata": {},
   "outputs": [],
   "source": [
    "detail_1 = child(4, \"Toyota\", 64, 60)\n"
   ]
  },
  {
   "cell_type": "code",
   "execution_count": 162,
   "id": "6d64cb69-6234-45e9-b74d-86dd1183f0ad",
   "metadata": {},
   "outputs": [
    {
     "data": {
      "text/plain": [
       "('Toyota', 4)"
      ]
     },
     "execution_count": 162,
     "metadata": {},
     "output_type": "execute_result"
    }
   ],
   "source": [
    "detail_1.return_details()"
   ]
  },
  {
   "cell_type": "code",
   "execution_count": 2,
   "id": "d4025922-b3ed-44c6-92c0-b4caab3cfe6c",
   "metadata": {},
   "outputs": [
    {
     "name": "stdout",
     "output_type": "stream",
     "text": [
      "Father : Ayush\n",
      "Mother : Mehak\n"
     ]
    }
   ],
   "source": [
    "\"\"\" Q3. What is multiple inheritance? Write a python code to demonstrate multiple inheritance.\"\"\"\n",
    "\n",
    "\"\"\" When a class inherits properties from 2 or more classes then this type of inheritance is called\n",
    "multiple inheritance \"\"\"\n",
    "\n",
    "class Mother:\n",
    "\tmothername = \"\"  # empty for now\n",
    "\tdef mother(self):\n",
    "\t\tprint(self.mothername)\n",
    "\n",
    "class Father:\n",
    "\tfathername = \"\"  # empty for now\n",
    "\tdef father(self):\n",
    "\t\tprint(self.fathername)\n",
    "\n",
    "class Son(Mother, Father): # this son class inherits properties from mother and father class\n",
    "\tdef parents(self):\n",
    "\t\tprint(\"Father :\", self.fathername)\n",
    "\t\tprint(\"Mother :\", self.mothername)\n",
    "\n",
    "\n",
    "\n",
    "s1 = Son()\n",
    "s1.fathername = \"Ayush\"\n",
    "s1.mothername = \"Mehak\"\n",
    "s1.parents()\n"
   ]
  },
  {
   "cell_type": "code",
   "execution_count": 3,
   "id": "3acf0959-9670-4b30-a045-5b5846b4f13a",
   "metadata": {},
   "outputs": [],
   "source": [
    "\"\"\"Q4. What are getter and setter in python? Create a class and create a getter and a setter method in this\n",
    "class.\"\"\"\n",
    "\n",
    "\"\"\" Getters and setters are decorators in python that are used to ensure that data is encapsulated or not\n",
    "By using getter and setter we gave user a different kind of access to class items in place of giving direct\n",
    "access to class items \"\"\"\n",
    "\n",
    "\n",
    "# Code without using getter setter\n",
    "\n",
    "class ayushraina:\n",
    "    \n",
    "    def __init__(self, state, city, college):\n",
    "        self.state = state\n",
    "        self.city = city\n",
    "        self.__college = college\n",
    "   \n",
    "    def college_access(self):\n",
    "        return self.__college \n",
    "    \n",
    "    \n",
    "    def college_name_set(self, name):\n",
    "        if name != \"iisc\":\n",
    "            self.__college = name\n",
    "        else:\n",
    "            self.__college = \"IISC\"\n",
    "                \n",
    "    def college_deleter(self):\n",
    "        del self.__college\n",
    "        "
   ]
  },
  {
   "cell_type": "code",
   "execution_count": 4,
   "id": "75ed21c3-8fb0-4784-9097-031a30cd1a1d",
   "metadata": {},
   "outputs": [
    {
     "data": {
      "text/plain": [
       "'iisc'"
      ]
     },
     "execution_count": 4,
     "metadata": {},
     "output_type": "execute_result"
    }
   ],
   "source": [
    "ayush = ayushraina(\"karnatka\", \"bengaluru\", \"iisc\")\n",
    "ayush.college_access() "
   ]
  },
  {
   "cell_type": "code",
   "execution_count": 5,
   "id": "0952a133-6fb4-4a2a-94e3-271b7fa65219",
   "metadata": {},
   "outputs": [],
   "source": [
    "ayush.college_name_set = \"IIT Bombay\""
   ]
  },
  {
   "cell_type": "code",
   "execution_count": 6,
   "id": "d53dda40-67b6-4cc8-8b58-df68374a20a1",
   "metadata": {},
   "outputs": [
    {
     "data": {
      "text/plain": [
       "'iisc'"
      ]
     },
     "execution_count": 6,
     "metadata": {},
     "output_type": "execute_result"
    }
   ],
   "source": [
    "ayush.college_access()\n",
    "# see i was not able to modify value it remained same"
   ]
  },
  {
   "cell_type": "code",
   "execution_count": 7,
   "id": "d4041aba-ca63-4b51-9b25-3f9ca47be530",
   "metadata": {},
   "outputs": [
    {
     "data": {
      "text/plain": [
       "<bound method ayushraina.college_deleter of <__main__.ayushraina object at 0x7fb1bcf52650>>"
      ]
     },
     "execution_count": 7,
     "metadata": {},
     "output_type": "execute_result"
    }
   ],
   "source": [
    "ayush.college_deleter"
   ]
  },
  {
   "cell_type": "code",
   "execution_count": 8,
   "id": "21981665-40e3-430e-8746-bedbe60e378a",
   "metadata": {},
   "outputs": [
    {
     "data": {
      "text/plain": [
       "'iisc'"
      ]
     },
     "execution_count": 8,
     "metadata": {},
     "output_type": "execute_result"
    }
   ],
   "source": [
    "ayush.college_access()\n",
    "# i am also not able to delete the value "
   ]
  },
  {
   "cell_type": "code",
   "execution_count": 9,
   "id": "495907f2-ed8a-40b2-873f-17dc0e0ec2cd",
   "metadata": {},
   "outputs": [],
   "source": [
    "# same code but this time using decorators\n",
    "\n",
    "class ayushraina:\n",
    "    \n",
    "    def __init__(self, state, city, college):\n",
    "        self.state = state\n",
    "        self.city = city\n",
    "        self.__college = college\n",
    "   \n",
    "    @property\n",
    "    def college_access(self):\n",
    "        return self.__college \n",
    "    \n",
    "    \n",
    "    @college_access.setter\n",
    "    def college_name_set(self, name):\n",
    "        if name != \"iisc\":\n",
    "            self.__college = name\n",
    "        else:\n",
    "            self.__college = \"IISC\"\n",
    "    \n",
    "    \n",
    "    @college_access.deleter            \n",
    "    def college_deleter(self):\n",
    "        del self.__college\n",
    "        "
   ]
  },
  {
   "cell_type": "code",
   "execution_count": 10,
   "id": "18c4701c-4db7-44e4-83e6-3519017b4bc2",
   "metadata": {},
   "outputs": [],
   "source": [
    "ayush = ayushraina(\"karnatka\", \"bengaluru\", \"iisc\")"
   ]
  },
  {
   "cell_type": "code",
   "execution_count": 11,
   "id": "0eef33a7-6cb7-4be6-b153-15741d6ff1de",
   "metadata": {},
   "outputs": [
    {
     "data": {
      "text/plain": [
       "'iisc'"
      ]
     },
     "execution_count": 11,
     "metadata": {},
     "output_type": "execute_result"
    }
   ],
   "source": [
    "ayush.college_access"
   ]
  },
  {
   "cell_type": "code",
   "execution_count": 12,
   "id": "c1e67853-4065-459a-b31a-7da82f5424b4",
   "metadata": {},
   "outputs": [],
   "source": [
    "ayush.college_name_set = \"Jammu\""
   ]
  },
  {
   "cell_type": "code",
   "execution_count": 13,
   "id": "547f6ad3-8707-4fc7-aee9-b58c7308d6ed",
   "metadata": {},
   "outputs": [
    {
     "data": {
      "text/plain": [
       "'Jammu'"
      ]
     },
     "execution_count": 13,
     "metadata": {},
     "output_type": "execute_result"
    }
   ],
   "source": [
    "ayush.college_access"
   ]
  },
  {
   "cell_type": "code",
   "execution_count": 14,
   "id": "9c04d37a-f0ab-4d3e-977a-c4bccdb7a632",
   "metadata": {},
   "outputs": [],
   "source": [
    "# see this time value was changed"
   ]
  },
  {
   "cell_type": "code",
   "execution_count": 15,
   "id": "4cb13825-acce-4881-b115-989825edc118",
   "metadata": {},
   "outputs": [],
   "source": [
    "del ayush.college_deleter"
   ]
  },
  {
   "cell_type": "code",
   "execution_count": 16,
   "id": "bf51b3b6-a3a4-4da0-a7e7-b56b58e9ca8f",
   "metadata": {},
   "outputs": [
    {
     "ename": "AttributeError",
     "evalue": "'ayushraina' object has no attribute '_ayushraina__college'",
     "output_type": "error",
     "traceback": [
      "\u001b[0;31m---------------------------------------------------------------------------\u001b[0m",
      "\u001b[0;31mAttributeError\u001b[0m                            Traceback (most recent call last)",
      "Cell \u001b[0;32mIn[16], line 1\u001b[0m\n\u001b[0;32m----> 1\u001b[0m \u001b[43mayush\u001b[49m\u001b[38;5;241;43m.\u001b[39;49m\u001b[43mcollege_access\u001b[49m\n",
      "Cell \u001b[0;32mIn[9], line 12\u001b[0m, in \u001b[0;36mayushraina.college_access\u001b[0;34m(self)\u001b[0m\n\u001b[1;32m     10\u001b[0m \u001b[38;5;129m@property\u001b[39m\n\u001b[1;32m     11\u001b[0m \u001b[38;5;28;01mdef\u001b[39;00m \u001b[38;5;21mcollege_access\u001b[39m(\u001b[38;5;28mself\u001b[39m):\n\u001b[0;32m---> 12\u001b[0m     \u001b[38;5;28;01mreturn\u001b[39;00m \u001b[38;5;28;43mself\u001b[39;49m\u001b[38;5;241;43m.\u001b[39;49m\u001b[43m__college\u001b[49m\n",
      "\u001b[0;31mAttributeError\u001b[0m: 'ayushraina' object has no attribute '_ayushraina__college'"
     ]
    }
   ],
   "source": [
    "ayush.college_access"
   ]
  },
  {
   "cell_type": "code",
   "execution_count": null,
   "id": "0b01cbed-23fa-413d-ba7e-ef83584917ce",
   "metadata": {},
   "outputs": [],
   "source": [
    "# see error because this was deleted"
   ]
  },
  {
   "cell_type": "code",
   "execution_count": 17,
   "id": "b570df1a-1567-413c-b7a6-33d6c8fdc514",
   "metadata": {},
   "outputs": [],
   "source": [
    "# Here completes Question 4"
   ]
  },
  {
   "cell_type": "code",
   "execution_count": 18,
   "id": "6eabac14-2e40-40f7-ab5a-fd6e303309a8",
   "metadata": {},
   "outputs": [
    {
     "name": "stdout",
     "output_type": "stream",
     "text": [
      "I Phone 14 Pro Max\n"
     ]
    }
   ],
   "source": [
    "\"\"\" Q5.What is method overriding in python? Write a python code to demonstrate method overriding. \"\"\"\n",
    "\n",
    "\"\"\" Method Overriding :- when 2 methods with same name and same number of parameters are there\n",
    "in different classes but by using inheritance we overwrite(override) the value old values\n",
    "becuase in same class we cant do so \"\"\"\n",
    "\n",
    "\n",
    "class parent:\n",
    "    \n",
    "    def show(self):\n",
    "        print(\"Nokia\")\n",
    "        \n",
    "class child(parent):\n",
    "    def show(self):\n",
    "        print(\"I Phone 14 Pro Max\")\n",
    "        \n",
    "obj = child()\n",
    "obj.show()\n",
    "\n",
    "# see here Nokia was not printed but i phone was printed because we over rided the value in parent \n",
    "# even after inheriting all properties of parent in child"
   ]
  },
  {
   "cell_type": "code",
   "execution_count": null,
   "id": "5bea9a73-d621-48a7-a18d-e14a0fd00f8b",
   "metadata": {},
   "outputs": [],
   "source": []
  },
  {
   "cell_type": "code",
   "execution_count": null,
   "id": "4839e80e-7d51-4417-9492-46a6c26e6a18",
   "metadata": {},
   "outputs": [],
   "source": []
  },
  {
   "cell_type": "code",
   "execution_count": null,
   "id": "96265143-dbff-4ff0-8218-93b3a3dec4d6",
   "metadata": {},
   "outputs": [],
   "source": []
  },
  {
   "cell_type": "code",
   "execution_count": null,
   "id": "0f0278fa-18d3-4941-a13e-d72176cdf4a8",
   "metadata": {},
   "outputs": [],
   "source": []
  }
 ],
 "metadata": {
  "kernelspec": {
   "display_name": "Python 3 (ipykernel)",
   "language": "python",
   "name": "python3"
  },
  "language_info": {
   "codemirror_mode": {
    "name": "ipython",
    "version": 3
   },
   "file_extension": ".py",
   "mimetype": "text/x-python",
   "name": "python",
   "nbconvert_exporter": "python",
   "pygments_lexer": "ipython3",
   "version": "3.10.8"
  }
 },
 "nbformat": 4,
 "nbformat_minor": 5
}
