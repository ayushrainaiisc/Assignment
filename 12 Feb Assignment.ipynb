{
  "nbformat": 4,
  "nbformat_minor": 0,
  "metadata": {
    "colab": {
      "provenance": []
    },
    "kernelspec": {
      "name": "python3",
      "display_name": "Python 3"
    },
    "language_info": {
      "name": "python"
    }
  },
  "cells": [
    {
      "cell_type": "code",
      "execution_count": 1,
      "metadata": {
        "colab": {
          "base_uri": "https://localhost:8080/"
        },
        "id": "cr8EllulwZyQ",
        "outputId": "4c8d197a-1864-4b60-9684-d9137acd0ab9"
      },
      "outputs": [
        {
          "output_type": "stream",
          "name": "stdout",
          "text": [
            "\n"
          ]
        }
      ],
      "source": [
        "\"\"\" Q1) What is exception in python? what is difference between exception and syntax errors ? \"\"\"\n",
        "\n",
        "\"\"\" In python Exception is an error which occurs during the normal flow of the program. If not handled properly it can cause program to terminate\n",
        "Exception can occur for a number of reasons like attempt to divide by zero, Accessing a non existent file etc.\n",
        "\n",
        "Syntax errors, on the other hand, occur when the code you have written does not follow the the syntax rules of Python. Examples of syntax errors\n",
        "include forgetting to close a parenthesis, using an incorrect keyword, or forgetting a colon in a conditional statements.\n",
        "\n",
        "Major difference between exception and syntax error in python is that syntax error is detected before execution of program by compiler. Only after all syntax\n",
        "errors are fixed , the program can proceed to execute whereas exception comes during the process of execution and can terminate the whole program if\n",
        "not handled properly\"\"\"\n",
        "\n",
        "print(\"\")"
      ]
    },
    {
      "cell_type": "code",
      "source": [
        "\"\"\" Q2) What happens when a exception is not handled properly with an example ? \"\"\"\n",
        "\n",
        "\"\"\" As we already discussed that if exception is not handled properly then it will cause program to terminate imediately. We use try - except statement blocks\n",
        "to handle exceptions. These blocks dont let program to terminate even after exception has been raised \"\"\"\n",
        "\n",
        "a =5\n",
        "print(a/0)\n",
        "\n",
        "\n",
        "print(\"This code is not executed\")\n",
        "# if we dont handle exception properly then error will come"
      ],
      "metadata": {
        "colab": {
          "base_uri": "https://localhost:8080/",
          "height": 241
        },
        "id": "rbgdWoRKyH-w",
        "outputId": "6a608a90-a3a0-41e8-898f-baa30ba55736"
      },
      "execution_count": 7,
      "outputs": [
        {
          "output_type": "error",
          "ename": "ZeroDivisionError",
          "evalue": "ignored",
          "traceback": [
            "\u001b[0;31m---------------------------------------------------------------------------\u001b[0m",
            "\u001b[0;31mZeroDivisionError\u001b[0m                         Traceback (most recent call last)",
            "\u001b[0;32m<ipython-input-7-95e835b4f9df>\u001b[0m in \u001b[0;36m<module>\u001b[0;34m\u001b[0m\n\u001b[1;32m      5\u001b[0m \u001b[0;34m\u001b[0m\u001b[0m\n\u001b[1;32m      6\u001b[0m \u001b[0ma\u001b[0m \u001b[0;34m=\u001b[0m\u001b[0;36m5\u001b[0m\u001b[0;34m\u001b[0m\u001b[0;34m\u001b[0m\u001b[0m\n\u001b[0;32m----> 7\u001b[0;31m \u001b[0mprint\u001b[0m\u001b[0;34m(\u001b[0m\u001b[0ma\u001b[0m\u001b[0;34m/\u001b[0m\u001b[0;36m0\u001b[0m\u001b[0;34m)\u001b[0m\u001b[0;34m\u001b[0m\u001b[0;34m\u001b[0m\u001b[0m\n\u001b[0m\u001b[1;32m      8\u001b[0m \u001b[0;34m\u001b[0m\u001b[0m\n\u001b[1;32m      9\u001b[0m \u001b[0;34m\u001b[0m\u001b[0m\n",
            "\u001b[0;31mZeroDivisionError\u001b[0m: division by zero"
          ]
        }
      ]
    },
    {
      "cell_type": "code",
      "source": [
        "# now i will handle it\n",
        "try :\n",
        "    a = 5\n",
        "    print(a/0)\n",
        "except ZeroDivisionError as e:\n",
        "  print(e)\n",
        "\n",
        "print(\"Exception handled\")"
      ],
      "metadata": {
        "colab": {
          "base_uri": "https://localhost:8080/"
        },
        "id": "YJK2Yxw20aeF",
        "outputId": "aa02e557-7597-4cf8-d69d-86397947665d"
      },
      "execution_count": 9,
      "outputs": [
        {
          "output_type": "stream",
          "name": "stdout",
          "text": [
            "division by zero\n",
            "Exception handled\n"
          ]
        }
      ]
    },
    {
      "cell_type": "code",
      "source": [
        "# see after using try except, program will not be terminated"
      ],
      "metadata": {
        "id": "GlsKd3ai03jZ"
      },
      "execution_count": 10,
      "outputs": []
    },
    {
      "cell_type": "code",
      "source": [
        "\"\"\" Q3) Which Python statements are used to catch and handle exceptions ? Explain with an example ? \"\"\"\n",
        "\n",
        "# Try and except statements are used to catch and handle exceptions respectively.\n",
        "\n",
        "try :\n",
        "    a = 5\n",
        "    print(a/0)\n",
        "except ZeroDivisionError as e:\n",
        "  print(e)\n",
        "\n",
        "print(\"Exception handled\")\n",
        "# if statement in try block is executed successfully then it will not go to except block\n",
        "# if there is any exception it will be caught in try block and then it be sent to except block for its handling"
      ],
      "metadata": {
        "colab": {
          "base_uri": "https://localhost:8080/"
        },
        "id": "2Xz1X2C33e_Z",
        "outputId": "05f1c1f1-e0da-4462-8f86-0c45bc85d111"
      },
      "execution_count": 11,
      "outputs": [
        {
          "output_type": "stream",
          "name": "stdout",
          "text": [
            "division by zero\n",
            "Exception handled\n"
          ]
        }
      ]
    },
    {
      "cell_type": "code",
      "source": [
        "\"\"\" Q4) Explain the following \"\"\"\n",
        "\n",
        "# 1) try and else :-\n",
        "\n",
        "\"\"\" Whenever statement under try block executes successfully then it doesnot go to except block but if we have written some statements in else lock that \n",
        "comes after except block that will be executed. Means if there is no error in try block statement only then else block will run \"\"\"\n",
        "\n",
        "try :\n",
        "  for i in range(1,5):\n",
        "    a = 5\n",
        "    print(a/5)\n",
        "\n",
        "except ZeroDivisionError as e:\n",
        "  print(e)\n",
        "\n",
        "else:\n",
        "  print(\"This is printed because no error in try block\")\n",
        "\n",
        "  print(\"\")\n",
        "\n",
        "# 2) Finally :-\n",
        "\"\"\" Sometimes there are some blocks of code that i need to run in any circumstances no matter error is there or not we put these statements under finally block\"\"\"\n",
        "\n",
        "try : \n",
        "  a = 5\n",
        "  print(a/0)\n",
        "except ZeroDivisionError as e:\n",
        "  print(e)\n",
        "\n",
        "finally:\n",
        "  print(\"I will be printed in any situation\")\n",
        "  # If i remove except statement. Error will come but still the statements under finally block will be executed\n",
        "\n"
      ],
      "metadata": {
        "colab": {
          "base_uri": "https://localhost:8080/"
        },
        "id": "mXoVcrLR4yk1",
        "outputId": "def26ff5-3739-489f-ba00-3f8eda84a5d9"
      },
      "execution_count": 18,
      "outputs": [
        {
          "output_type": "stream",
          "name": "stdout",
          "text": [
            "1.0\n",
            "1.0\n",
            "1.0\n",
            "1.0\n",
            "This is printed because no error in try block\n",
            "\n",
            "division by zero\n",
            "I will be printed in any situation\n"
          ]
        }
      ]
    },
    {
      "cell_type": "code",
      "source": [
        "# 3) raise :-\n",
        "class mycustomexception(Exception):\n",
        "  pass\n",
        "\n",
        "def is_age_valid(age):\n",
        "    if age < 0:\n",
        "      raise mycustomexception(\"Age cant be negative\")\n",
        "    elif age > 100:\n",
        "      raise mycustomexception(\"Its very rare\")\n",
        "    else:\n",
        "      print(\"age is valid\")\n",
        "\n",
        "      "
      ],
      "metadata": {
        "id": "lYFDttL046rC"
      },
      "execution_count": 20,
      "outputs": []
    },
    {
      "cell_type": "code",
      "source": [
        "is_age_valid(201)\n",
        "# see our custom exception working nicely"
      ],
      "metadata": {
        "colab": {
          "base_uri": "https://localhost:8080/",
          "height": 310
        },
        "id": "djq98wn27dPs",
        "outputId": "f24f4e52-a7f9-446d-fccc-6cd500ae5876"
      },
      "execution_count": 23,
      "outputs": [
        {
          "output_type": "error",
          "ename": "mycustomexception",
          "evalue": "ignored",
          "traceback": [
            "\u001b[0;31m---------------------------------------------------------------------------\u001b[0m",
            "\u001b[0;31mmycustomexception\u001b[0m                         Traceback (most recent call last)",
            "\u001b[0;32m<ipython-input-23-66ece49983f9>\u001b[0m in \u001b[0;36m<module>\u001b[0;34m\u001b[0m\n\u001b[0;32m----> 1\u001b[0;31m \u001b[0mis_age_valid\u001b[0m\u001b[0;34m(\u001b[0m\u001b[0;36m201\u001b[0m\u001b[0;34m)\u001b[0m\u001b[0;34m\u001b[0m\u001b[0;34m\u001b[0m\u001b[0m\n\u001b[0m\u001b[1;32m      2\u001b[0m \u001b[0;31m# see our custom exception working nicely\u001b[0m\u001b[0;34m\u001b[0m\u001b[0;34m\u001b[0m\u001b[0;34m\u001b[0m\u001b[0m\n",
            "\u001b[0;32m<ipython-input-20-7622e6687434>\u001b[0m in \u001b[0;36mis_age_valid\u001b[0;34m(age)\u001b[0m\n\u001b[1;32m      7\u001b[0m       \u001b[0;32mraise\u001b[0m \u001b[0mmycustomexception\u001b[0m\u001b[0;34m(\u001b[0m\u001b[0;34m\"Age cant be negative\"\u001b[0m\u001b[0;34m)\u001b[0m\u001b[0;34m\u001b[0m\u001b[0;34m\u001b[0m\u001b[0m\n\u001b[1;32m      8\u001b[0m     \u001b[0;32melif\u001b[0m \u001b[0mage\u001b[0m \u001b[0;34m>\u001b[0m \u001b[0;36m100\u001b[0m\u001b[0;34m:\u001b[0m\u001b[0;34m\u001b[0m\u001b[0;34m\u001b[0m\u001b[0m\n\u001b[0;32m----> 9\u001b[0;31m       \u001b[0;32mraise\u001b[0m \u001b[0mmycustomexception\u001b[0m\u001b[0;34m(\u001b[0m\u001b[0;34m\"Its very rare\"\u001b[0m\u001b[0;34m)\u001b[0m\u001b[0;34m\u001b[0m\u001b[0;34m\u001b[0m\u001b[0m\n\u001b[0m\u001b[1;32m     10\u001b[0m     \u001b[0;32melse\u001b[0m\u001b[0;34m:\u001b[0m\u001b[0;34m\u001b[0m\u001b[0;34m\u001b[0m\u001b[0m\n\u001b[1;32m     11\u001b[0m       \u001b[0mprint\u001b[0m\u001b[0;34m(\u001b[0m\u001b[0;34m\"age is valid\"\u001b[0m\u001b[0;34m)\u001b[0m\u001b[0;34m\u001b[0m\u001b[0;34m\u001b[0m\u001b[0m\n",
            "\u001b[0;31mmycustomexception\u001b[0m: Its very rare"
          ]
        }
      ]
    },
    {
      "cell_type": "code",
      "source": [
        "# now we will handle this\n",
        "try:\n",
        "  age = int(input(\"Enter your age: \"))\n",
        "  is_age_valid(age)\n",
        "except mycustomexception as e:\n",
        "  print(e)\n",
        "\n",
        "print(\"custom exception handled\")"
      ],
      "metadata": {
        "colab": {
          "base_uri": "https://localhost:8080/"
        },
        "id": "kiVg_gbO8Z8r",
        "outputId": "b56c2dfe-f3c3-47c1-d36f-71de6061604e"
      },
      "execution_count": 28,
      "outputs": [
        {
          "output_type": "stream",
          "name": "stdout",
          "text": [
            "Enter your age: -78\n",
            "Age cant be negative\n",
            "custom exception handled\n"
          ]
        }
      ]
    },
    {
      "cell_type": "code",
      "source": [
        "\"\"\" Q6) Create a custom exception class ? use this to handle this exception  ? \"\"\"\n",
        "\n",
        "# Already done in 3rd part of previous Question"
      ],
      "metadata": {
        "id": "Jo_NabHH8yEq"
      },
      "execution_count": null,
      "outputs": []
    }
  ]
}