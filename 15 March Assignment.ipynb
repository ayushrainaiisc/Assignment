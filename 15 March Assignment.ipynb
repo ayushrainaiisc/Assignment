{
 "cells": [
  {
   "cell_type": "markdown",
   "id": "d4dde996-4242-43b3-ad2c-026ed879f742",
   "metadata": {
    "tags": []
   },
   "source": [
    "# Q1 - Explain the following with an example \n",
    "1) Artifical Intelligence\n",
    "2) Machine Learning\n",
    "3) Deep Learning\n",
    "\n"
   ]
  },
  {
   "cell_type": "markdown",
   "id": "dbf77f4e-2919-4f5a-91cd-92cb6e36470c",
   "metadata": {},
   "source": [
    "# Answer :- 1) Artificial Intelligence\n",
    "Artificial intelligence refers to the simulation of human intelligence in machines that are programmed to perform tasks that would normally require human intelligence, such as visual perception, speech recognition, decision-making, and language translation\n",
    "\n",
    "AI has many applications in various fields, including healthcare, finance, transportation, and entertainment. Some examples of AI-powered technologies include virtual assistants, self-driving cars, and facial recognition systems.\n",
    "\n",
    "Some AI are designed in such a way that they can make decisions on their own without any human interaction.\n",
    "Such AI systems can be both beneficial and dangerous to us, but this depends on a number of factors\n",
    "\n",
    "# 2) Machine Learning\n",
    "Machine learning is a subfield of artificial intelligence (AI) that involves the development of algorithms and statistical models that allow computer systems to learn from data and improve their performance on a specific task over time, without being explicitly programmed.\n",
    "\n",
    "In machine learning, the computer system is given a dataset and is trained to recognize patterns and make predictions based on that data. As the system processes more data, it adjusts its algorithms and models to improve its accuracy and performance.\n",
    "\n",
    "There are mainly 3 types of Machine Learning\n",
    "1) Supervised Machine Learning\n",
    "2) Unsupervised Machine Learning\n",
    "3) Reinforcement Learning\n",
    "\n",
    "# 3) Deep Learning\n",
    "Deep learning is a subfield of machine learning that uses artificial neural networks, which are modeled after the structure and function of the human brain, to learn from large amounts of data. These neural networks consist of layers of interconnected nodes or \"neurons\" that process and analyze data, and the connections between these neurons are weighted to determine their impact on the final output.\n",
    "\n",
    "Some of famous Deep Learning Architectures include :-\n",
    "1) Convolutional Neural Networks (CNNs)\n",
    "2) Recurrent Neural Networks (RNNs) \n",
    "\n",
    "and there are many more"
   ]
  },
  {
   "cell_type": "markdown",
   "id": "019b704a-dfc2-41fb-9971-a17c16a20bbc",
   "metadata": {},
   "source": [
    "# Q2) What is supervised Machine Learning ? Give Some Examples of Supervised Machine Learning ?\n"
   ]
  },
  {
   "cell_type": "markdown",
   "id": "4bec4e05-ae9e-4ccc-9c96-1541d6946715",
   "metadata": {},
   "source": [
    "# Answer\n",
    "Supervised machine learning is a type of machine learning where the algorithm is trained using labeled data, meaning the data comes with known input-output pairs. The algorithm learns to recognize patterns in the input data and predict the correct output based on that learning. The goal is to generalize this learning to new, unseen data.\n",
    "\n",
    "In supervised machine learning, the input data is called the \"features\", and the desired output is called the \"label\" or \"target\". The algorithm is trained to find the relationship between the features and the label.\n",
    "\n",
    "Further there are 2 types of problems we solve by Supervised Machine Learning is \n",
    "1) Classification Problems\n",
    "2) Regression Problems\n",
    "\n",
    "Example of Classification :- Given an image, the algorithm is trained to identify the objects or people in the image and assign a label to it. For example, a machine learning algorithm could be trained to classify images of animals as either cats or dogs.\n",
    "\n",
    "Example of Regression :-  For example, a machine learning algorithm could be trained to predict the price of a house based on its size, location, and other features.\n",
    "\n",
    "In regression we have a continuous range of values whereas in classification set of output values if fixed\n",
    "as discussed like giving grade to students on the basis of their marks, here grades are limited but the example of price of House can be anything between a range depending on various conditions"
   ]
  },
  {
   "cell_type": "markdown",
   "id": "8a36ca72-ccb0-4142-add7-4136b8edad35",
   "metadata": {},
   "source": [
    "# Q3) What is unsupervised Machine Learning ? Give Some Examples of unsupervised Machine Learning ?\n",
    "\n"
   ]
  },
  {
   "cell_type": "markdown",
   "id": "e2a19a80-9e8c-4fbc-af5e-14866832b9ac",
   "metadata": {},
   "source": [
    "# Answer\n",
    "\n",
    "Unsupervised machine learning is a type of machine learning where the algorithm is trained using unlabeled data, meaning the data does not come with known input-output pairs. The goal of unsupervised learning is to find patterns and relationships within the data without prior knowledge of what the output should be.\n",
    "\n",
    "The algorithm does this by identifying similarities and differences between data points, and clustering them accordingly.\n",
    "\n",
    "Some examples of unsupervised machine learning include:\n",
    "1) Clustering : the algorithm is trained to group similar data points together into clusters. For example, a machine learning algorithm could be trained to group customers based on their purchasing behavior\n",
    "\n",
    "2) Dimensionality reduction - Given a high-dimensional dataset, the algorithm is trained to reduce the dimensionality of the data while preserving its structure\n",
    "\n",
    "Example, a retail company could use clustering algorithms to identify groups of customers who are likely to be interested in certain products, and then target them with relevant marketing campaigns.\n",
    "\n",
    "Also, a bank could use anomaly detection algorithms to identify unusual transactions that deviate from the typical spending patterns of a customer."
   ]
  },
  {
   "cell_type": "markdown",
   "id": "4b90987a-08e8-449a-a3b3-186f60c98f1c",
   "metadata": {},
   "source": [
    "# Q4) What is the difference between AI, ML, DL, and DS?\n"
   ]
  },
  {
   "cell_type": "markdown",
   "id": "9a081092-a388-44a9-9907-55f527576486",
   "metadata": {},
   "source": [
    "# Answer\n",
    "AI (Artificial Intelligence), ML (Machine Learning), DL (Deep Learning), and DS (Data Science) are related but distinct concepts in the field of computer science. Here are the key differences between them:\n",
    "\n",
    "1) AI is a broad field that encompasses the development of intelligent systems that can perform tasks that normally require human intelligence. ML, DL, and DS are all subsets of AI.\n",
    "\n",
    "2) ML is a method of teaching computers to learn from data, without being explicitly programmed. ML algorithms use statistical techniques to learn patterns in data and make predictions or decisions based on those patterns.\n",
    "\n",
    "3) DL is a type of ML that uses neural networks to learn from data. DL algorithms are designed to mimic the structure and function of the human brain, allowing them to learn complex patterns and relationships in data.\n",
    "\n",
    "4) DS is a multidisciplinary field that involves using techniques from statistics, ML, and other fields to extract insights from data. DS involves everything from data acquisition and cleaning, to analysis, visualization, and interpretation."
   ]
  },
  {
   "cell_type": "markdown",
   "id": "7141563c-6235-4af7-a17a-837f7284c626",
   "metadata": {},
   "source": [
    "# Q5) What is main difference between Supervised, Supervised and Semi Supervised ML ?"
   ]
  },
  {
   "cell_type": "markdown",
   "id": "7d6a3784-de43-4dbf-9045-6ad7b45d5f8a",
   "metadata": {},
   "source": [
    "# Answer\n",
    "In supervised learning, the training dataset consists of labeled examples, where the desired output or \"label\" is provided along with the input data. The goal of supervised learning is to learn a mapping from input to output based on the labeled examples,\n",
    "whereas in unsupervised learning, the training dataset consists of unlabeled data, where the goal is to learn patterns or structure in the data without any specific labels. Unsupervised learning algorithms are often used for exploratory data analysis, feature extraction as discussed and \n",
    "in semi-supervised learning, the training dataset consists of both labeled and unlabeled data. The goal is to use the labeled data to guide the learning process and improve the accuracy of the model"
   ]
  },
  {
   "cell_type": "markdown",
   "id": "fee5d698-28a7-4a38-9d12-2b8563395c44",
   "metadata": {},
   "source": [
    "# Q6- What is train, test and validation split? Explain the importance of each term."
   ]
  },
  {
   "cell_type": "markdown",
   "id": "f043a637-d42e-438c-93e5-cc2ebfa7d11b",
   "metadata": {},
   "source": [
    "# Answer\n",
    "In machine learning, it is common practice to split a dataset into three subsets: training set, validation set, and test set. Here is an explanation of each subset and its importance:\n",
    "\n",
    "1) Training set: The training set is a subset of the dataset used to train the machine learning model. It contains input data and the corresponding output or \"label\" for each data point. The model learns from this data by adjusting its internal parameters to minimize the error between the predicted output and the true output.\n",
    "\n",
    "2) Validation set: The validation set is a subset of the dataset used to evaluate the performance of the model during training. It is also used to increase the accuracy of our model\n",
    "\n",
    "3) Test set: The test set is a subset of the dataset used to evaluate the final performance of the model after training is complete. It is used to estimate the generalization error of the model, which is the error rate when the model is applied to new, unseen data\n",
    "\n",
    "In summary, train-test-validation split is a crucial step in machine learning to ensure that the model is trained, validated, and tested on different subsets of the data.\n",
    "\n",
    "Training Set is important because  It helps the model to learn from the input data and the corresponding output or \"label\" for each data point.\n",
    "\n",
    "Validation set is important because it is used to evaluate the performance of the model during training and adjust the hyperparameters to improve performance and helps in increasing accuracy\n",
    "\n",
    "Test set is important because it is used to evaluate the final performance of the model and estimate its generalization error. It provides an unbiased estimate of the performance of the model on new, unseen data."
   ]
  },
  {
   "cell_type": "markdown",
   "id": "ede6a82c-2a45-4d0b-a249-23c77ce1b900",
   "metadata": {},
   "source": [
    "# Q7) How can unsupervised learning be used in anomaly detection?"
   ]
  },
  {
   "cell_type": "markdown",
   "id": "3d0ce0d1-8d8e-4300-975f-7df734e77f8a",
   "metadata": {},
   "source": [
    "# Answer\n",
    "Unsupervised machine learning algorithms can be used to identify unusual patterns or behaviors that may indicate fraud or other malicious activities. For example, a bank could use anomaly detection algorithms to identify unusual transactions that deviate from the typical spending patterns of a customer."
   ]
  },
  {
   "cell_type": "markdown",
   "id": "68fd54ae-e31c-42ac-80f1-47e813a20b64",
   "metadata": {},
   "source": [
    "# Q8- List down some commonly used supervised and unsupervised machine learning algorithms ?\n"
   ]
  },
  {
   "cell_type": "markdown",
   "id": "8ec89642-082b-4ac0-af7b-954cb50a7a08",
   "metadata": {},
   "source": [
    "# Answer\n",
    "Here are some most commonly used Machine Learning Algorithms\n",
    "\n",
    "Supervised Machine Learning Algorithms :-\n",
    "1) Linear Regression\n",
    "2) Logistic Regression\n",
    "3) Decision Trees\n",
    "4) Random Forest\n",
    "5) Naive Bayes\n",
    "\n",
    "Unsupervised Machine Learning Algorithms :-\n",
    "1) K-Means Clustering\n",
    "2) Hierarchical Clustering\n",
    "3) DBSCAN Clustering\n",
    "4) Principal Component Analysis (PCA)\n",
    "5) Independent Component Analysis (ICA)"
   ]
  },
  {
   "cell_type": "code",
   "execution_count": null,
   "id": "0e0a6cff-f4cd-4939-9829-ad2c6ca8dab6",
   "metadata": {},
   "outputs": [],
   "source": []
  }
 ],
 "metadata": {
  "kernelspec": {
   "display_name": "Python 3 (ipykernel)",
   "language": "python",
   "name": "python3"
  },
  "language_info": {
   "codemirror_mode": {
    "name": "ipython",
    "version": 3
   },
   "file_extension": ".py",
   "mimetype": "text/x-python",
   "name": "python",
   "nbconvert_exporter": "python",
   "pygments_lexer": "ipython3",
   "version": "3.10.8"
  }
 },
 "nbformat": 4,
 "nbformat_minor": 5
}
