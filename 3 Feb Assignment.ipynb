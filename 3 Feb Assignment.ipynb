{
 "cells": [
  {
   "cell_type": "code",
   "execution_count": 1,
   "id": "4e91cf57-d2f0-4e31-b65b-0ce80f39a9b8",
   "metadata": {},
   "outputs": [],
   "source": [
    "# Question 1\n"
   ]
  },
  {
   "cell_type": "code",
   "execution_count": 2,
   "id": "640efea4-415e-469c-ba7b-3ce9ad4cc7f0",
   "metadata": {},
   "outputs": [],
   "source": [
    "# We use def keyword to create a function. We can give any number of arguments to function\n",
    "# To make sure that function is not none type, it must return something"
   ]
  },
  {
   "cell_type": "code",
   "execution_count": 3,
   "id": "44d5416c-3704-438a-860b-98f92efb6234",
   "metadata": {},
   "outputs": [],
   "source": [
    "# below function returns odd numbers in range [1,25]"
   ]
  },
  {
   "cell_type": "code",
   "execution_count": 4,
   "id": "5686891a-c01f-49cb-91e7-2b8eaffc89e9",
   "metadata": {},
   "outputs": [
    {
     "data": {
      "text/plain": [
       "[1, 3, 5, 7, 9, 11, 13, 15, 17, 19, 21, 23, 25]"
      ]
     },
     "execution_count": 4,
     "metadata": {},
     "output_type": "execute_result"
    }
   ],
   "source": [
    "# Method 1\n",
    "def odd_numbers(l):\n",
    "    odd_list = []\n",
    "    for i in l:\n",
    "        if i % 2 != 0:\n",
    "            odd_list.append(i)\n",
    "    return odd_list\n",
    "\n",
    "arr = []\n",
    "for i in range(1,26):\n",
    "    arr.append(i)\n",
    "odd_numbers(arr)\n",
    "\n",
    "# this was function which takes argument"
   ]
  },
  {
   "cell_type": "code",
   "execution_count": 5,
   "id": "748cad3b-0471-4a8e-bcc1-8f8398d85bc0",
   "metadata": {},
   "outputs": [
    {
     "data": {
      "text/plain": [
       "[1, 3, 5, 7, 9, 11, 13, 15, 17, 19, 21, 23, 25]"
      ]
     },
     "execution_count": 5,
     "metadata": {},
     "output_type": "execute_result"
    }
   ],
   "source": [
    "# Method 2 (no argument to function)\n",
    "def odd_numbers_2():\n",
    "    odd_list_2 = []\n",
    "    for i in range(1,26):\n",
    "        if i % 2 != 0:\n",
    "            odd_list_2.append(i)\n",
    "    return odd_list_2        \n",
    "        \n",
    "odd_numbers_2()"
   ]
  },
  {
   "cell_type": "code",
   "execution_count": 6,
   "id": "f6156810-0eff-461b-ace2-99b46f4d1517",
   "metadata": {},
   "outputs": [
    {
     "data": {
      "text/plain": [
       "[1, 3, 5, 7, 9, 11, 13, 15, 17, 19, 21, 23, 25]"
      ]
     },
     "execution_count": 6,
     "metadata": {},
     "output_type": "execute_result"
    }
   ],
   "source": [
    "# Method 3 (using lambda functions)\n",
    "list(filter(lambda x : x % 2 != 0, arr))\n",
    "# this is one liner"
   ]
  },
  {
   "cell_type": "code",
   "execution_count": 7,
   "id": "20e35178-649c-4002-81e8-d694a54a02d5",
   "metadata": {},
   "outputs": [],
   "source": [
    "# Question 2\n"
   ]
  },
  {
   "cell_type": "code",
   "execution_count": 8,
   "id": "267e6c54-b836-47a6-8631-3b79312fce9a",
   "metadata": {},
   "outputs": [
    {
     "data": {
      "text/plain": [
       "' *args receives argument as tuples and **kwargs accepts arguments as dictionary'"
      ]
     },
     "execution_count": 8,
     "metadata": {},
     "output_type": "execute_result"
    }
   ],
   "source": [
    "\"\"\" *args keyword is used to pass variable number of arguments into a function, it is also called non keyword arguments.\n",
    "It is often used with args keyword but we can use any other word but * mark is important. All arguments we pass after using\n",
    "*args are stored in tuples as we can check type of function after using this keyword, after using *args we can also pass more\n",
    "arguments if we want\"\"\"\n",
    "\n",
    "# Lets see an example of this \n",
    "# we will add strings together\n",
    "\n",
    "def add_strings(*args):\n",
    "    x = \"\"\n",
    "    for i in args:\n",
    "        x += i + \" \"\n",
    "    return x\n",
    "\n",
    "add_strings(\"ayush\", \"raina\", \"learning\", \"jupyter\", \"notebook\")\n",
    "# see it works fine\n",
    "\n",
    "\n",
    "\"\"\" *args receives argument as tuples and **kwargs accepts arguments as dictionary\"\"\"\n",
    "        "
   ]
  },
  {
   "cell_type": "code",
   "execution_count": 9,
   "id": "30eb8ef3-43db-4aa7-b4d3-96b1a6a960ed",
   "metadata": {},
   "outputs": [
    {
     "name": "stdout",
     "output_type": "stream",
     "text": [
      "Name is:  ayush raina\n",
      "Age is:  19\n",
      "Number is:  7889763345\n"
     ]
    }
   ],
   "source": [
    "\"\"\" Whenever we use **kwargs this means keyworded variable length arguments, input is in form of dictionary but not directly\n",
    "this is used when we need only specific data from keyvalues. It can be used to get whole data as well as specific data through\n",
    "key values\n",
    "example given below explains that\"\"\"\n",
    "\n",
    "def person2(**data):\n",
    "    print(\"Name is: \", data[\"name\"])\n",
    "    print(\"Age is: \", data[\"age\"])\n",
    "    print(\"Number is: \", data[\"number\"])\n",
    "    \n",
    "person2(name = \"ayush raina\", age = 19, number = 7889763345)\n",
    "# here while giving argument we have to do like that but in data[\"here key value must be on quotes to avoid error\"]"
   ]
  },
  {
   "cell_type": "code",
   "execution_count": 10,
   "id": "d5809a5b-c75b-45bf-ad27-d83e492c0cfb",
   "metadata": {},
   "outputs": [],
   "source": [
    "# we can see the output"
   ]
  },
  {
   "cell_type": "code",
   "execution_count": null,
   "id": "162dc748-f0c7-428c-aeeb-504faa0ea086",
   "metadata": {},
   "outputs": [],
   "source": [
    "\n",
    "\n",
    "\n"
   ]
  },
  {
   "cell_type": "code",
   "execution_count": 11,
   "id": "2abd6838-0324-4127-83ab-993ada80a46d",
   "metadata": {},
   "outputs": [],
   "source": [
    "# Question 3"
   ]
  },
  {
   "cell_type": "code",
   "execution_count": 12,
   "id": "baff2703-9106-4c93-8ec1-5532a9d14794",
   "metadata": {},
   "outputs": [
    {
     "name": "stdout",
     "output_type": "stream",
     "text": [
      "2\n",
      "4\n",
      "6\n",
      "8\n",
      "10\n"
     ]
    }
   ],
   "source": [
    "\"\"\" Iterator in python is a object that can be iterated upon, means it can be traversed. It should contain countable number of \n",
    "values.\n",
    "\n",
    "In python the iterator object is initialized by using iter() command. Remember that only objects that are iterable can be \n",
    "initialized by iter() command otherwise error will come. In case of iterators after initialization next() command is used for\n",
    "iteration through iterator\"\"\"\n",
    "\n",
    "# we are given a list\n",
    "arr = [2,4,6,8,10,12,14,16,18,20] # we need to print first five elements of this list.\n",
    "# if we run code here it gives error that list object is not iterator\n",
    "\n",
    "arr2 = iter(arr) # this is initialization\n",
    "\n",
    "for i in range(5):\n",
    "    print(next(arr2)) # using next command to iterate through iterator\n"
   ]
  },
  {
   "cell_type": "code",
   "execution_count": 13,
   "id": "89fe3d64-93e1-4c35-bf58-4f662e9ba5ec",
   "metadata": {},
   "outputs": [],
   "source": [
    "# Question 4\n"
   ]
  },
  {
   "cell_type": "code",
   "execution_count": 14,
   "id": "db3cc896-647b-4f35-be3c-0233daadf691",
   "metadata": {},
   "outputs": [
    {
     "name": "stdout",
     "output_type": "stream",
     "text": [
      "a\n",
      "y\n",
      "u\n",
      "s\n",
      "h\n",
      "r\n",
      "a\n",
      "i\n",
      "n\n",
      "a\n",
      " \n",
      "a\n",
      "y\n",
      "u\n",
      "s\n",
      "h\n"
     ]
    }
   ],
   "source": [
    "\"\"\" In simple words we can say that the function which uses the yield keyword instead of a return keyword is generator\n",
    "function, with this we can create the functions that behave like an iterator, means we can call these by loops to get \n",
    "values. These kind of functions are very useful because that it return sequence of values instead of one single value\n",
    "\n",
    "Yield is special kind of keyword and is used here because by using yield it stops the function whenever it returns a value\n",
    "sends that value back to caller and resumes again, this is very helpful when doing operations on large data sets because, whenever\n",
    "a value is received it sends that to caller instead of storing all that values and returning to caller at once\n",
    "This saves memory.\"\"\"\n",
    "\n",
    "def generator():\n",
    "    for i in \"ayushraina\":\n",
    "        yield i\n",
    "        \n",
    "# above example is a generator function\n",
    "generator_object = generator() # this gives me generator object that i can iterate upon\n",
    "\n",
    "# now to get the data i need to iterate, if i need only few data then i use next(generator_object), if i need all data then use loop\n",
    "for i in generator_object:\n",
    "    print(i)\n",
    "    \n",
    "print(\" \")    \n",
    "# if i want to iterate manually\n",
    "\n",
    "# below i stored in other variable because above loop prints all data so again print gives error\n",
    "generator_object_2 = generator()\n",
    "print(next(generator_object_2))\n",
    "print(next(generator_object_2))\n",
    "print(next(generator_object_2))\n",
    "print(next(generator_object_2))\n",
    "print(next(generator_object_2))\n",
    "# like this we can print data"
   ]
  },
  {
   "cell_type": "code",
   "execution_count": 15,
   "id": "be9d93db-169b-44c7-8906-99da2ba53d61",
   "metadata": {},
   "outputs": [],
   "source": [
    "# Question 5"
   ]
  },
  {
   "cell_type": "code",
   "execution_count": 19,
   "id": "602c55e0-13e6-4b88-8370-796ec30ef8ee",
   "metadata": {},
   "outputs": [
    {
     "name": "stdout",
     "output_type": "stream",
     "text": [
      "[2, 3, 5, 7, 11, 13, 17, 19, 23, 29, 31, 37, 41, 43, 47, 53, 59, 61, 67, 71, 73, 79, 83, 89, 97, 101, 103, 107, 109, 113, 127, 131, 137, 139, 149, 151, 157, 163, 167, 173, 179, 181, 191, 193, 197, 199, 211, 223, 227, 229, 233, 239, 241, 251, 257, 263, 269, 271, 277, 281, 283, 293, 307, 311, 313, 317, 331, 337, 347, 349, 353, 359, 367, 373, 379, 383, 389, 397, 401, 409, 419, 421, 431, 433, 439, 443, 449, 457, 461, 463, 467, 479, 487, 491, 499, 503, 509, 521, 523, 541, 547, 557, 563, 569, 571, 577, 587, 593, 599, 601, 607, 613, 617, 619, 631, 641, 643, 647, 653, 659, 661, 673, 677, 683, 691, 701, 709, 719, 727, 733, 739, 743, 751, 757, 761, 769, 773, 787, 797, 809, 811, 821, 823, 827, 829, 839, 853, 857, 859, 863, 877, 881, 883, 887, 907, 911, 919, 929, 937, 941, 947, 953, 967, 971, 977, 983, 991, 997]\n",
      " \n",
      "2 3 5 7 11 13 17 19 23 29 31 37 41 43 47 53 59 61 67 71 "
     ]
    }
   ],
   "source": [
    "import math\n",
    "def prime_numbers():\n",
    "    \"\"\"This generates the list of prime numbers before 1000\"\"\"\n",
    "    \n",
    "    for i in range(2,1001):\n",
    "        if i == 2:\n",
    "            yield 2\n",
    "            \n",
    "        if i % 2 != 0:\n",
    "            \n",
    "            j = math.sqrt(i)\n",
    "            k = 1\n",
    "\n",
    "            while (k <= j):\n",
    "                if i % k == 0 and k != 1:\n",
    "                    break\n",
    "                else:\n",
    "                    k += 2\n",
    "            else:\n",
    "                yield i\n",
    "prime_numbers_list = []                \n",
    "for i in prime_numbers():\n",
    "    prime_numbers_list.append(i)\n",
    "    \n",
    "print(prime_numbers_list) \n",
    "# this will print the list of prime numbers less than 1000 \n",
    "# I have used algorithm of Sieve of Eratosthenes in calculating this\n",
    "\n",
    "print(\" \")\n",
    "\n",
    "\"\"\"Part 2\"\"\"\n",
    "x = prime_numbers()\n",
    "for i in range(20):\n",
    "    print(next(x),end = \" \") # end command is used to print them together"
   ]
  },
  {
   "cell_type": "code",
   "execution_count": null,
   "id": "42166f14-6281-41f0-ac09-c7dae082c23f",
   "metadata": {},
   "outputs": [],
   "source": [
    "\n"
   ]
  },
  {
   "cell_type": "code",
   "execution_count": 20,
   "id": "64cb9326-0973-4f06-a3ef-ef9e7407068f",
   "metadata": {},
   "outputs": [],
   "source": [
    "# Question 6"
   ]
  },
  {
   "cell_type": "code",
   "execution_count": 21,
   "id": "1e402b66-d675-4ab6-8bc3-bc8399d75f60",
   "metadata": {},
   "outputs": [
    {
     "name": "stdout",
     "output_type": "stream",
     "text": [
      "0 1 1 2 3 5 8 13 21 34 "
     ]
    }
   ],
   "source": [
    "# Fibonachi series\n",
    "# easy iterative program to print 10 fibonachi numbers using while loop\n",
    "\n",
    "fib = 10\n",
    "a,b = 0,1\n",
    "count = 0\n",
    "while count < fib:\n",
    "    print(a,end = \" \")\n",
    "    c = a + b\n",
    "    a = b\n",
    "    b = c\n",
    "    count += 1"
   ]
  },
  {
   "cell_type": "code",
   "execution_count": null,
   "id": "bdff938a-6229-4874-95c7-852b3d374a75",
   "metadata": {},
   "outputs": [],
   "source": []
  },
  {
   "cell_type": "code",
   "execution_count": 22,
   "id": "aec59c21-4e78-4ebb-9665-84e69b39a8e9",
   "metadata": {},
   "outputs": [],
   "source": [
    "# Question 7"
   ]
  },
  {
   "cell_type": "code",
   "execution_count": 24,
   "id": "3d9da36f-eca1-44f7-b16c-30d4e0736a25",
   "metadata": {},
   "outputs": [
    {
     "data": {
      "text/plain": [
       "['p', 'w', 's', 'k', 'i', 'l', 'l', 's']"
      ]
     },
     "execution_count": 24,
     "metadata": {},
     "output_type": "execute_result"
    }
   ],
   "source": [
    "s = \"pwskills\"\n",
    "comp = [i for i in s]\n",
    "comp"
   ]
  },
  {
   "cell_type": "code",
   "execution_count": null,
   "id": "ba7a9c5f-a450-4d5f-a777-3b3b713e3fa2",
   "metadata": {},
   "outputs": [],
   "source": []
  },
  {
   "cell_type": "code",
   "execution_count": 25,
   "id": "f503c96d-52ca-436d-a12a-a21d0c38a01f",
   "metadata": {},
   "outputs": [],
   "source": [
    "# Question 8"
   ]
  },
  {
   "cell_type": "code",
   "execution_count": 26,
   "id": "d42dc99d-1cf9-44fb-9291-71ac2f0a8640",
   "metadata": {},
   "outputs": [
    {
     "name": "stdin",
     "output_type": "stream",
     "text": [
      "Enter Your Number:  9876789\n"
     ]
    },
    {
     "name": "stdout",
     "output_type": "stream",
     "text": [
      "Yes number is a Palidrome\n"
     ]
    }
   ],
   "source": [
    "\"\"\"Python Program to check whether the number is palindrome or not\"\"\"\n",
    "a = int(input(\"Enter Your Number: \"))\n",
    "b = a % 10\n",
    "a = str(a)\n",
    "i = 0\n",
    "\n",
    "while (i < len(a)-1):\n",
    "    b = (b*10) + int(a[len(a)-2-i])\n",
    "    i += 1\n",
    "    \n",
    "if b == int(a):\n",
    "    print(\"Yes number is a Palidrome\")\n",
    "else :\n",
    "    print(\"No number is nt a Palindrome\")\n",
    "    \n",
    "    "
   ]
  },
  {
   "cell_type": "code",
   "execution_count": null,
   "id": "7762c9c8-de23-4ff8-ac08-24ec884ffaaa",
   "metadata": {},
   "outputs": [],
   "source": []
  },
  {
   "cell_type": "code",
   "execution_count": 30,
   "id": "5f0e7281-5e3c-49fe-9d9e-066c03f2a1db",
   "metadata": {},
   "outputs": [
    {
     "data": {
      "text/plain": [
       "[1,\n",
       " 3,\n",
       " 5,\n",
       " 7,\n",
       " 9,\n",
       " 11,\n",
       " 13,\n",
       " 15,\n",
       " 17,\n",
       " 19,\n",
       " 21,\n",
       " 23,\n",
       " 25,\n",
       " 27,\n",
       " 29,\n",
       " 31,\n",
       " 33,\n",
       " 35,\n",
       " 37,\n",
       " 39,\n",
       " 41,\n",
       " 43,\n",
       " 45,\n",
       " 47,\n",
       " 49,\n",
       " 51,\n",
       " 53,\n",
       " 55,\n",
       " 57,\n",
       " 59,\n",
       " 61,\n",
       " 63,\n",
       " 65,\n",
       " 67,\n",
       " 69,\n",
       " 71,\n",
       " 73,\n",
       " 75,\n",
       " 77,\n",
       " 79,\n",
       " 81,\n",
       " 83,\n",
       " 85,\n",
       " 87,\n",
       " 89,\n",
       " 91,\n",
       " 93,\n",
       " 95,\n",
       " 97,\n",
       " 99]"
      ]
     },
     "execution_count": 30,
     "metadata": {},
     "output_type": "execute_result"
    }
   ],
   "source": [
    "# Question 9\n",
    "odd_nums = [i for i in range(101) if i % 2 != 0]\n",
    "odd_nums\n",
    "# hence done using list comprehension"
   ]
  },
  {
   "cell_type": "code",
   "execution_count": null,
   "id": "a3ec21dc-59b9-4814-8783-f67be431d30d",
   "metadata": {},
   "outputs": [],
   "source": []
  }
 ],
 "metadata": {
  "kernelspec": {
   "display_name": "Python 3 (ipykernel)",
   "language": "python",
   "name": "python3"
  },
  "language_info": {
   "codemirror_mode": {
    "name": "ipython",
    "version": 3
   },
   "file_extension": ".py",
   "mimetype": "text/x-python",
   "name": "python",
   "nbconvert_exporter": "python",
   "pygments_lexer": "ipython3",
   "version": "3.10.8"
  }
 },
 "nbformat": 4,
 "nbformat_minor": 5
}
