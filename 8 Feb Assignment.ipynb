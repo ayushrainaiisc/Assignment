{
 "cells": [
  {
   "cell_type": "code",
   "execution_count": 1,
   "id": "0edb4b0e-08cd-4733-aa4b-fdb69795d341",
   "metadata": {},
   "outputs": [
    {
     "name": "stdout",
     "output_type": "stream",
     "text": [
      "its running\n"
     ]
    }
   ],
   "source": [
    "\"\"\"Q1. What is Abstraction in OOps? Explain with an example.\"\"\"\n",
    "# Solution\n",
    "\n",
    "\"\"\"\n",
    "First we will know about abstract methods, methods that have only a \n",
    "declaration but not a definition are called abstract methods\n",
    "Classes having these types of methods are called abstract classes\n",
    "\n",
    "Abstraction is a process in which we want to hide the sensitive parts\n",
    "of our code from user\n",
    "\n",
    "It is the process of hiding the implementation details of an object from\n",
    "the user, and presenting only the essential features or properties of the\n",
    "object that are necessary for the user to interact with it.\n",
    "\n",
    "Python doesnot support abstraction directly but we need to import abc module for using\n",
    "abstract classes\n",
    "\n",
    "\"\"\"\n",
    "# first import 2 things\n",
    "from abc import ABC, abstractmethod\n",
    "\n",
    "class computer(ABC):             # this means now class is abstract\n",
    "    \n",
    "    @abstractmethod\n",
    "    def process(self):\n",
    "        pass\n",
    "    \n",
    "class laptop(computer):          #this is now a subclass of computer \n",
    "    def process(self):\n",
    "        print(\"its running\")\n",
    "    \n",
    "\n",
    "com1 = laptop()\n",
    "com1.process()\n",
    "\n",
    "\"\"\" Abstraction focuses on hiding the internal implementations of a process or\n",
    "method from the user. In this way, the user knows what he is doing but not how the\n",
    "work is being done.\"\"\"\"\n",
    "\n",
    "# this was example of abstraction"
   ]
  },
  {
   "cell_type": "code",
   "execution_count": 5,
   "id": "3ac7cdd4-97a2-4bb1-814f-753e7ac1a361",
   "metadata": {},
   "outputs": [
    {
     "name": "stdout",
     "output_type": "stream",
     "text": [
      "\n"
     ]
    }
   ],
   "source": [
    "\"\"\"Q2. Differentiate between Abstraction and Encapsulation. Explain with an example.\"\"\"\n",
    "\n",
    "# Solution\n",
    "\"\"\"\n",
    " Abstraction focuses on hiding the internal implementations of a process or\n",
    "method from the user. In this way, the user knows what he is doing but not how the\n",
    "work is being done.\n",
    "\n",
    "whereas in encapsulation we do not want to give full access to variables inside our program,but we use\n",
    "getters and setters to give some access to user in encapsulation\n",
    "\n",
    "access can be given by specific method created for that purpose\n",
    "\n",
    "for example we can say that in class car there are many different types of methods, lets talk about speed method\n",
    "\n",
    "\n",
    "\"\"\"\n",
    "\n",
    "print(\"\")"
   ]
  },
  {
   "cell_type": "code",
   "execution_count": 7,
   "id": "e417b6cb-de58-4bad-907e-4fc8ba6592c1",
   "metadata": {},
   "outputs": [
    {
     "name": "stdout",
     "output_type": "stream",
     "text": [
      "its running\n"
     ]
    }
   ],
   "source": [
    "\"\"\"Q3. What is abc module in python? Why is it used?\"\"\"\n",
    "\n",
    "\"\"\" abc stands for abstract base classes. python bydefault doesnt support abstract classes, but we have abc module\n",
    "to use abstract classes in python.\n",
    "\"\"\"\n",
    "\n",
    "from abc import ABC, abstractmethod\n",
    "\n",
    "class computer(ABC):             # this means now class is abstract\n",
    "    \n",
    "    @abstractmethod\n",
    "    def process(self):\n",
    "        pass\n",
    "    \n",
    "class laptop(computer):          #this is now a subclass of computer \n",
    "    def process(self):\n",
    "        print(\"its running\")\n",
    "    \n",
    "\n",
    "com1 = laptop()\n",
    "com1.process()\n",
    "\n",
    "\n",
    "# this same example can be used to show how it is used"
   ]
  },
  {
   "cell_type": "code",
   "execution_count": 9,
   "id": "5e0395be-991b-4769-abf1-a7b6d192e58c",
   "metadata": {},
   "outputs": [
    {
     "name": "stdout",
     "output_type": "stream",
     "text": [
      "\n"
     ]
    }
   ],
   "source": [
    "\"\"\" Q4. How can we achieve data abstraction? \"\"\"\n",
    "\n",
    "\"\"\" Data abstraction can be achieved by creating abstract classes and using abstract methods from abc module\n",
    ". we must import these to do the process because python doesnot support the abstract classes by default\"\"\"\n",
    "\n",
    "print(\"\")"
   ]
  },
  {
   "cell_type": "code",
   "execution_count": 10,
   "id": "4ca6dd84-d1e8-4c82-9b80-56b7be6e45e4",
   "metadata": {},
   "outputs": [
    {
     "data": {
      "text/plain": [
       "' Q5. Can we create an instance of an abstract class? Explain your answer. '"
      ]
     },
     "execution_count": 10,
     "metadata": {},
     "output_type": "execute_result"
    }
   ],
   "source": [
    "\"\"\" Q5. Can we create an instance of an abstract class? Explain your answer. \"\"\"\n",
    "\n",
    "\"\"\" If we have used an abc module then we can create the object of abstract classes \"\"\"\n"
   ]
  },
  {
   "cell_type": "code",
   "execution_count": null,
   "id": "e7ef3c9d-98c7-4d75-818a-360be5ea8cb7",
   "metadata": {},
   "outputs": [],
   "source": []
  }
 ],
 "metadata": {
  "kernelspec": {
   "display_name": "Python 3 (ipykernel)",
   "language": "python",
   "name": "python3"
  },
  "language_info": {
   "codemirror_mode": {
    "name": "ipython",
    "version": 3
   },
   "file_extension": ".py",
   "mimetype": "text/x-python",
   "name": "python",
   "nbconvert_exporter": "python",
   "pygments_lexer": "ipython3",
   "version": "3.10.8"
  }
 },
 "nbformat": 4,
 "nbformat_minor": 5
}
