{
  "nbformat": 4,
  "nbformat_minor": 0,
  "metadata": {
    "colab": {
      "provenance": []
    },
    "kernelspec": {
      "name": "python3",
      "display_name": "Python 3"
    },
    "language_info": {
      "name": "python"
    }
  },
  "cells": [
    {
      "cell_type": "code",
      "execution_count": 2,
      "metadata": {
        "colab": {
          "base_uri": "https://localhost:8080/"
        },
        "id": "VoLtHytureP4",
        "outputId": "95f15389-3548-49c4-c649-022659c0a2e2"
      },
      "outputs": [
        {
          "output_type": "stream",
          "name": "stdout",
          "text": [
            "\n"
          ]
        }
      ],
      "source": [
        "\"\"\" Q1. Which function is used to open a file? What are the different modes of opening a file? Explain each mode\n",
        "of file opening. \"\"\"\n",
        "\n",
        "\"\"\" open() is inbuilt command which is used to open a file. It has different types of arguments like read, write, creating \n",
        "in text mode etc. i will explain few of them for this problem\n",
        "\n",
        "\"r\" :- open a file for reading\n",
        "\"w\" :- open a file for writing, truncating the file first\n",
        "\"x\" :- create a new file and open it for writing\n",
        "\"a\" :- open for writing, appending to the end of the file if it exists\n",
        "\"t\" :- opens a file in text mode (default) \"\"\"\n",
        "print(\"\")"
      ]
    },
    {
      "cell_type": "code",
      "source": [
        "\"\"\" Q2. Why close() function is used? Why is it important to close a file? \"\"\"\n",
        "\n",
        "\"\"\" Close file if used to close an opened file in python. It is necessary to close an opened file from which we have read to in which we have written something\n",
        "because close() frees up the system resourcs that were allocated to file during its opening \n",
        "\n",
        "When the file was opened, the operating sytsem received certain number of resources for that file. If we dont free up those resources by close() command\n",
        "those resources will remain in use and can give problems in future while making large number of files\"\"\"\n",
        "print(\"\")"
      ],
      "metadata": {
        "colab": {
          "base_uri": "https://localhost:8080/"
        },
        "id": "DKipcDXStOsa",
        "outputId": "9d18f2e9-a08f-4b6f-f975-06adf5447f6d"
      },
      "execution_count": 3,
      "outputs": [
        {
          "output_type": "stream",
          "name": "stdout",
          "text": [
            "\n"
          ]
        }
      ]
    },
    {
      "cell_type": "code",
      "source": [
        "\"\"\" Q3. Write a python program to create a text file. Write ‘I want to become a Data Scientist’ in that file. Then\n",
        "close the file. Open this file and read the content of the file. \"\"\"\n",
        "\n",
        "\n",
        "with open(\"assignement.txt\", \"w\") as file:\n",
        "    file.write(\"I want to become a Data Scientist\")\n",
        "    file.close()\n",
        "\n",
        "# see file was created and message is there inside the file\n",
        "# now lets read the file\n",
        "\n",
        "with open(\"assignement.txt\", \"r\") as file:\n",
        "    print(file.read())\n",
        "\n",
        "# Here file contents i read but to show i need to print on the screen"
      ],
      "metadata": {
        "colab": {
          "base_uri": "https://localhost:8080/"
        },
        "id": "6WfLe59wurDF",
        "outputId": "774ed35d-3d27-4da5-e315-507c597eb1f2"
      },
      "execution_count": 10,
      "outputs": [
        {
          "output_type": "stream",
          "name": "stdout",
          "text": [
            "I want to become a Data Scientist\n"
          ]
        }
      ]
    },
    {
      "cell_type": "code",
      "source": [
        "\"\"\" Q4. Explain the following with python code: read(), readline() and readlines(). \"\"\"\n",
        "\n",
        "# First lets make a file on which we will do these operations\n",
        "with open(\"demo.txt\", \"w\") as file:\n",
        "  file.write(\"My Name is Ayush Raina\\n\")\n",
        "  file.write(\"I study at Banglore\\n\")\n",
        "  file.write(\"Sudhanshu Sir Teaches very Nice\")\n",
        "  file.close()\n",
        "\n",
        "\"\"\" 1) read() :- this is used to read all the content from the file \"\"\"\n",
        "with open(\"demo.txt\", \"r\") as file:\n",
        "    material = file.read()\n",
        "    print(material)\n",
        "\n",
        "\n",
        "print(\"\")\n",
        "\n",
        "\"\"\" 2) readline() :- this is used to read only the first line in the file \"\"\"\n",
        "with open(\"demo.txt\", \"r\")  as file:\n",
        "  first_line = file.readline()\n",
        "  print(first_line)\n",
        "\n",
        "print(\"\")\n",
        "\n",
        "\n",
        "\"\"\" 3) readlines() :- this is used to read all the lines and return them as a list of strings\"\"\"\n",
        "with open(\"demo.txt\", \"r\") as file:\n",
        "  lines = file.readlines()\n",
        "  print(lines)\n",
        "\n",
        "\n",
        "# This was major differences in read(), readline(), readlines()"
      ],
      "metadata": {
        "colab": {
          "base_uri": "https://localhost:8080/"
        },
        "id": "zbJDp8WVvr64",
        "outputId": "9366dda8-2c6e-49bb-d72c-5a6521bf2b0a"
      },
      "execution_count": 17,
      "outputs": [
        {
          "output_type": "stream",
          "name": "stdout",
          "text": [
            "My Name is Ayush Raina\n",
            "I study at Banglore\n",
            "Sudhanshu Sir Teaches very Nice\n",
            "\n",
            "My Name is Ayush Raina\n",
            "\n",
            "\n",
            "['My Name is Ayush Raina\\n', 'I study at Banglore\\n', 'Sudhanshu Sir Teaches very Nice']\n"
          ]
        }
      ]
    },
    {
      "cell_type": "code",
      "source": [
        "\"\"\" Q5. Explain why with statement is used with open(). What is the advantage of using with statement and\n",
        "open() together? \"\"\"\n",
        "\n",
        "\n",
        "\"\"\" While working with files ,The with statement is used in Python to create a block of code that will be executed\n",
        " with a particular context.  When the block of code is finished executing, the context is automatically cleaned up, which \n",
        " can help avoid certain errors and ensure that system resources are properly freed up \"\"\"\n",
        "\n",
        " # The major advantage is that i do not need to close the file after using with statement with open statement\n",
        " # because by using with it automatically ensures that file is closed properly\n",
        "\n",
        "with open(\"demo2.txt\", \"w\") as file:\n",
        "   file.write(\"Data added to file without closing\")\n",
        "   # see i didnt closed file still data was added\n",
        "\n",
        "with open(\"demo2.txt\", \"r\") as file:\n",
        "  content = file.read()\n",
        "  print(content)\n",
        "  # data is printed which proves that data was added which in turn proves that after using with statement\n",
        "  # closing of file happens automatically\n"
      ],
      "metadata": {
        "colab": {
          "base_uri": "https://localhost:8080/"
        },
        "id": "dO0_EgdCyQd4",
        "outputId": "fb31a649-bc05-4855-dcd7-58f6810afe4f"
      },
      "execution_count": 19,
      "outputs": [
        {
          "output_type": "stream",
          "name": "stdout",
          "text": [
            "Data added to file without closing\n"
          ]
        }
      ]
    },
    {
      "cell_type": "code",
      "source": [
        "\"\"\" Q6. Explain the write() and writelines() functions. Give a suitable example. \"\"\"\n",
        "\n",
        "\"\"\"  The write() function is used to write a single string or sequence of characters to a file. It takes a single argument\n",
        ", which is the string or sequence of characters to be written to the file. If the file does not exist, it is created, and \n",
        "if it already exists, the data is written to the end of the file \n",
        "\n",
        "The writelines() function is used to write a list of strings or sequences of characters to a file.\n",
        "It takes a single argument, which is a list of strings or sequences of characters to be written to the file. \n",
        "Each string or sequence of characters in the list is written to the file as a separate line.\n",
        "\"\"\"\n",
        "\n",
        "with open(\"demo3.txt\", \"w\") as file:\n",
        "  file.write(\"My name is Ayush Raina\")\n",
        "# with this a file is created with this sentence \n",
        "\n",
        "with open(\"demo4.txt\", \"w\") as file:\n",
        "  file.writelines([\"My name is Ayush Raina\\n\", \"I Study at Indian Institute of Science\\n\", \"Sudh Sir is nice\"])\n",
        "# in the above file all three strings in list will be added as separate lines\n",
        "\n",
        "\n"
      ],
      "metadata": {
        "id": "8mx8c5k002g1"
      },
      "execution_count": 20,
      "outputs": []
    },
    {
      "cell_type": "code",
      "source": [],
      "metadata": {
        "id": "GoZQkv0N2p4L"
      },
      "execution_count": null,
      "outputs": []
    }
  ]
}