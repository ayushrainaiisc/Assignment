{
 "cells": [
  {
   "cell_type": "code",
   "execution_count": 2,
   "id": "902f616c-0a3c-4b1a-a0d9-e68180e35cb6",
   "metadata": {},
   "outputs": [
    {
     "name": "stdout",
     "output_type": "stream",
     "text": [
      "\n"
     ]
    }
   ],
   "source": [
    "\"\"\" Q1. Create a function which will take a list as an argument and return the product of all the numbers\n",
    "after creating a flat list. \n",
    "\n",
    "Use the below-given list as an argument for your function.\n",
    "\n",
    "list1 = [1,2,3,4, [44,55,66, True], False, (34,56,78,89,34), {1,2,3,3,2,1}, {1:34, \"key2\": [55, 67, 78, 89], 4: (45,\n",
    "22, 61, 34)}, [56, 'data science'], 'Machine Learning']\n",
    "\n",
    "Note: you must extract numeric keys and values of the dictionary also.\"\"\"\n",
    "print(\"\")"
   ]
  },
  {
   "cell_type": "code",
   "execution_count": 29,
   "id": "05ab9db5-8d79-4e79-9dea-9722eb834ff4",
   "metadata": {},
   "outputs": [
    {
     "data": {
      "text/plain": [
       "24808271033922512873003047452672000"
      ]
     },
     "execution_count": 29,
     "metadata": {},
     "output_type": "execute_result"
    }
   ],
   "source": [
    "def product(arr):\n",
    "    prod = 1\n",
    "    for i in arr:\n",
    "        if type(i) == int:\n",
    "            prod *= i\n",
    "            \n",
    "        if type(i) == list:\n",
    "            for j in i:\n",
    "                if type(j) == int:\n",
    "                    prod *= j\n",
    "                    \n",
    "        if type(i) == set:\n",
    "            for k in i: # here is only one set with repeated elements but when loop approaches that there \n",
    "                # are unique elements only\n",
    "                if type(k) == int:\n",
    "                    prod *= k**2\n",
    "                     # this i did there are same-same 3 numbers\n",
    "        if type(i) == tuple:\n",
    "            for x in i:\n",
    "                if type(x) == int:\n",
    "                    prod *= x\n",
    "                    \n",
    "        if type(i) == dict:\n",
    "            for y in list(i.keys()):\n",
    "                if type(y) == int:\n",
    "                    prod *= y\n",
    "                    \n",
    "            for z in list(i.values()):\n",
    "                if type(z) == int:\n",
    "                    prod *= z\n",
    "                    \n",
    "                if type(z) == list:\n",
    "                    for ayush in z:\n",
    "                        if type(ayush) == int:\n",
    "                            prod *= ayush\n",
    "                            \n",
    "                if type(z) == tuple:\n",
    "                    for raina in z:\n",
    "                        if type(raina) == int:\n",
    "                            prod *= raina\n",
    "                \n",
    "    return prod\n",
    "\n",
    "arr = [1,2,3,4, [44,55,66, True], False, (34,56,78,89,34), {1,2,3,3,2,1}, {1:34, \"key2\": [55, 67, 78, 89], 4: (45,\n",
    "22, 61, 34)}, [56, 'data science'], 'Machine Learning']\n",
    "product(arr)"
   ]
  },
  {
   "cell_type": "code",
   "execution_count": 45,
   "id": "07533ce9-50da-4afe-8140-52ce3a782124",
   "metadata": {},
   "outputs": [
    {
     "data": {
      "text/plain": [
       "24808271033922512873003047452672000"
      ]
     },
     "execution_count": 45,
     "metadata": {},
     "output_type": "execute_result"
    }
   ],
   "source": [
    "# Method 2 (using lambda, filter, reduce functions)\n",
    "from functools import reduce\n",
    "def fast(arr):\n",
    "    prod = 1\n",
    "    int_list = list(filter(lambda x : type(x) == int, arr))\n",
    "    prod_1 = reduce(lambda x, y: x*y, int_list)\n",
    "    prod *= prod_1\n",
    "    \n",
    "    normal_lists = list(filter(lambda x : type(x) == list, arr))\n",
    "    combine1 = []\n",
    "    for i in normal_lists:\n",
    "        combine1 += i\n",
    "    x = list(filter(lambda x : type(x) == int, combine1 ))\n",
    "    prod_2 = reduce(lambda x,y : x*y, x)\n",
    "    prod *= prod_2\n",
    "    \n",
    "    tuple_list = list(filter(lambda x : type(x) == tuple, arr))\n",
    "    combine2 = list(filter(lambda x : type(x) == int, tuple_list[0]))\n",
    "    prod_3 = reduce(lambda x,y : x*y, combine2)\n",
    "    prod *= prod_3\n",
    "   \n",
    "    dict_list = list(filter(lambda x : type(x) == dict, arr))\n",
    "    key_list = list(dict_list[0].keys())\n",
    "    \n",
    "    key_list = list(filter(lambda x : type(x) == int, key_list))\n",
    "    prod_4 = reduce(lambda x,y : x * y, key_list)\n",
    "    prod *= prod_4\n",
    "    \n",
    "    value_list = list(dict_list[0].values())\n",
    "    \n",
    "    int_list_2 = list(filter(lambda x : type(x) == int, value_list))\n",
    "    prod_5 = reduce(lambda x, y: x*y, int_list_2)\n",
    "    prod *= prod_5\n",
    "    \n",
    "    normal_lists_2 = list(filter(lambda x : type(x) == list, value_list))\n",
    "    combine2 = []\n",
    "    for i in normal_lists_2:\n",
    "        combine2 += i\n",
    "    x = list(filter(lambda x : type(x) == int, combine2 ))\n",
    "    prod_6 = reduce(lambda x,y : x*y, x)\n",
    "    prod *= prod_6\n",
    "    \n",
    "    tuple_list_2 = list(filter(lambda x : type(x) == tuple, value_list))\n",
    "    combine3 = list(filter(lambda x : type(x) == int, tuple_list_2[0]))\n",
    "    prod_7 = reduce(lambda x,y : x*y, combine3)\n",
    "    prod *= prod_7\n",
    "    prod *= 36 # this is multiplication from elements from set inside given array\n",
    "    \n",
    "    \n",
    "    return prod\n",
    "arr = [1,2,3,4, [44,55,66, True], False, (34,56,78,89,34), {1,2,3,3,2,1}, {1:34, \"key2\": [55, 67, 78, 89], 4: (45,\n",
    "22, 61, 34)}, [56, 'data science'], 'Machine Learning']\n",
    "fast(arr)"
   ]
  },
  {
   "cell_type": "code",
   "execution_count": 47,
   "id": "c2ba5ac2-0ea9-4684-b327-98318b9acf8a",
   "metadata": {},
   "outputs": [
    {
     "name": "stdout",
     "output_type": "stream",
     "text": [
      "\n"
     ]
    }
   ],
   "source": [
    "\"\"\" We got same answer in both methods \"\"\"\n",
    "print(\"\")\n"
   ]
  },
  {
   "cell_type": "code",
   "execution_count": null,
   "id": "dd07de56-dfe3-49d9-a85b-016578139259",
   "metadata": {},
   "outputs": [],
   "source": [
    "\n",
    "\n"
   ]
  },
  {
   "cell_type": "code",
   "execution_count": 49,
   "id": "0ae37440-5981-4c98-8e77-0debea753bb5",
   "metadata": {},
   "outputs": [
    {
     "name": "stdout",
     "output_type": "stream",
     "text": [
      "\n"
     ]
    }
   ],
   "source": [
    "\"\"\" Q2. Write a python program for encrypting a message sent to you by your friend. The logic of encryption\n",
    "should be such that, for a the output should be z. For b, the output should be y. For c, the output should\n",
    "be x respectively. Also, the whitespace should be replaced with a dollar sign. Keep the punctuation\n",
    "marks unchanged.\n",
    "Input Sentence: I want to become a Data Scientist.\n",
    "Encrypt the above input sentence using the program you just created.\n",
    "Note: Convert the given input sentence into lowercase before encrypting. The final output should be\n",
    "lowercase.\"\"\"\n",
    "print(\"\")"
   ]
  },
  {
   "cell_type": "code",
   "execution_count": 77,
   "id": "3f37dbeb-9fc3-41e7-84ba-2f2119f0829b",
   "metadata": {},
   "outputs": [
    {
     "name": "stdin",
     "output_type": "stream",
     "text": [
      "Enter message for encrypting I want to become a Data Scientist.\n"
     ]
    },
    {
     "data": {
      "text/plain": [
       "'r$dzmg$gl$yvxlnv$z$wzgz$hxrvmgrhg'"
      ]
     },
     "execution_count": 77,
     "metadata": {},
     "output_type": "execute_result"
    }
   ],
   "source": [
    "# Solution\n",
    "\n",
    "alphabets = \"abcdefghijklmnopqrstuvwxyz\"\n",
    "true_order = [i for i in alphabets]\n",
    "reverse_order = true_order[::-1]\n",
    "\n",
    "message = input(\"Enter message for encrypting\")\n",
    "message = message.lower()\n",
    "message = message.strip(\".\") # this is done to remove full stop\n",
    "\n",
    "encryption = \"\"\n",
    "for i in message:\n",
    "    if i != \" \":\n",
    "        encryption += reverse_order[true_order.index(i)]\n",
    "    else:\n",
    "        encryption += \"$\"\n",
    "encryption\n",
    "\n",
    "\n"
   ]
  },
  {
   "cell_type": "code",
   "execution_count": null,
   "id": "5b4c9f99-0361-4e30-847b-9a8718a749dd",
   "metadata": {},
   "outputs": [],
   "source": []
  },
  {
   "cell_type": "code",
   "execution_count": null,
   "id": "cff834b9-2d75-4974-af04-448cd9e71e1d",
   "metadata": {},
   "outputs": [],
   "source": []
  },
  {
   "cell_type": "code",
   "execution_count": null,
   "id": "19e44b53-c104-4df3-b20b-fdd840836df9",
   "metadata": {},
   "outputs": [],
   "source": []
  },
  {
   "cell_type": "code",
   "execution_count": null,
   "id": "63653c78-d506-48ff-bdb6-e5bbc56f9cab",
   "metadata": {},
   "outputs": [],
   "source": []
  }
 ],
 "metadata": {
  "kernelspec": {
   "display_name": "Python 3 (ipykernel)",
   "language": "python",
   "name": "python3"
  },
  "language_info": {
   "codemirror_mode": {
    "name": "ipython",
    "version": 3
   },
   "file_extension": ".py",
   "mimetype": "text/x-python",
   "name": "python",
   "nbconvert_exporter": "python",
   "pygments_lexer": "ipython3",
   "version": "3.10.8"
  }
 },
 "nbformat": 4,
 "nbformat_minor": 5
}
