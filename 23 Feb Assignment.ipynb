{
 "cells": [
  {
   "cell_type": "code",
   "execution_count": 1,
   "id": "8481d060-92be-45ce-a5e6-9ce9744bda5f",
   "metadata": {},
   "outputs": [
    {
     "name": "stdout",
     "output_type": "stream",
     "text": [
      "Requirement already satisfied: pandas in /opt/conda/lib/python3.10/site-packages (1.5.2)\n",
      "Requirement already satisfied: python-dateutil>=2.8.1 in /opt/conda/lib/python3.10/site-packages (from pandas) (2.8.2)\n",
      "Requirement already satisfied: pytz>=2020.1 in /opt/conda/lib/python3.10/site-packages (from pandas) (2022.6)\n",
      "Requirement already satisfied: numpy>=1.21.0 in /opt/conda/lib/python3.10/site-packages (from pandas) (1.23.5)\n",
      "Requirement already satisfied: six>=1.5 in /opt/conda/lib/python3.10/site-packages (from python-dateutil>=2.8.1->pandas) (1.16.0)\n",
      "Note: you may need to restart the kernel to use updated packages.\n"
     ]
    }
   ],
   "source": [
    "pip install pandas"
   ]
  },
  {
   "cell_type": "code",
   "execution_count": 2,
   "id": "6f3f6639-a11c-441a-b05d-946f066e50c0",
   "metadata": {},
   "outputs": [
    {
     "name": "stdout",
     "output_type": "stream",
     "text": [
      "0     4\n",
      "1     8\n",
      "2    15\n",
      "3    23\n",
      "4    42\n",
      "dtype: int64\n",
      "\n",
      "a     4\n",
      "b     8\n",
      "c    15\n",
      "d    23\n",
      "e    42\n",
      "dtype: int64\n"
     ]
    }
   ],
   "source": [
    "\"\"\" Q1. Create a Pandas Series that contains the following data: 4, 8, 15, 16, 23, and 42. Then, print the series.\"\"\"\n",
    "\n",
    "\n",
    "# To create a pandas series we need to use series() function available in pandas library\n",
    "# there are many ways to create series by using lists and dictionary \n",
    "\n",
    "\n",
    "\n",
    "import pandas as pd\n",
    "\n",
    "# By using lists\n",
    "arr = [4, 8, 15, 23, 42]\n",
    "series_1 = pd.Series(arr)\n",
    "print(series_1)\n",
    "\n",
    "print(\"\")  # just for line break\n",
    "\n",
    "# By using dictionaries\n",
    "dictionary = {\"a\" : 4, \"b\" : 8, \"c\" : 15, \"d\" : 23, \"e\" : 42}  # we can use our own keys and data in values\n",
    "series_2 = pd.Series(dictionary)\n",
    "print(series_2)\n",
    "\n",
    "\n",
    "# Hence printed the given data as series"
   ]
  },
  {
   "cell_type": "code",
   "execution_count": 3,
   "id": "1d1ef714-4850-46fe-910e-1c25ae14991f",
   "metadata": {},
   "outputs": [
    {
     "name": "stdout",
     "output_type": "stream",
     "text": [
      "0               ayush\n",
      "1               raina\n",
      "2                IISC\n",
      "3           Bengaluru\n",
      "4                  PW\n",
      "5              Skills\n",
      "6            Sudh Sir\n",
      "7          Krrish Sir\n",
      "8             ineuron\n",
      "9    Sanatammanahalli\n",
      "dtype: object\n",
      "a               ayush\n",
      "b               raina\n",
      "c                IISC\n",
      "d           Bengaluru\n",
      "e                  PW\n",
      "f              Skills\n",
      "g            Sudh Sir\n",
      "h          Krrish Sir\n",
      "i             ineuron\n",
      "j    Sanatammanahalli\n",
      "dtype: object\n"
     ]
    }
   ],
   "source": [
    "\"\"\" Q2. Create a variable of list type containing 10 elements in it, and apply pandas.Series function on the\n",
    "variable print it. \"\"\"\n",
    "\n",
    "# pandas is already imported\n",
    "my_array = [\"ayush\", \"raina\", \"IISC\", \"Bengaluru\", \"PW\", \"Skills\", \"Sudh Sir\", \"Krrish Sir\", \"ineuron\", \"Sanatammanahalli\"]\n",
    "my_series = pd.Series(my_array)\n",
    "print(my_series)\n",
    "\n",
    "# another method\n",
    "my_next_series = pd.Series([\"ayush\", \"raina\", \"IISC\", \"Bengaluru\", \"PW\", \"Skills\", \"Sudh Sir\", \"Krrish Sir\", \"ineuron\", \n",
    "                            \"Sanatammanahalli\"], index = [\"a\", \"b\", \"c\", \"d\", \"e\", \"f\", \"g\", \"h\", \"i\", \"j\"])\n",
    "print(my_next_series)\n",
    "\n",
    "# Done"
   ]
  },
  {
   "cell_type": "code",
   "execution_count": 4,
   "id": "06a8863e-c4c4-45d3-9332-b0d02e37a042",
   "metadata": {},
   "outputs": [
    {
     "name": "stdout",
     "output_type": "stream",
     "text": [
      "     Name  Age  Gender\n",
      "0   Alice   25  Female\n",
      "1     Bob   30    Male\n",
      "2  Claire   27  Female\n",
      " \n",
      "     Name  Age  Gender\n",
      "0   Alice   25  Female\n",
      "1     Bob   30    Male\n",
      "2  Claire   27  Female\n",
      "\n",
      "     Name  Age  Gender\n",
      "0   Alice   25  Female\n",
      "1     Bob   30    Male\n",
      "2  Claire   27  Female\n"
     ]
    }
   ],
   "source": [
    "\"\"\" Q3. Create a Pandas DataFrame that contains the following data: \"\"\"\n",
    "\n",
    "# To create a dataframe there are various methods available but in all those methods we need to use\n",
    "# DataFrame() function which is already available in library\n",
    "\n",
    "\n",
    "# By using dictionary\n",
    "dict_1 = {\"Name\" : [\"Alice\", \"Bob\", \"Claire\"], \"Age\" : [25, 30, 27], \"Gender\" : [\"Female\", \"Male\", \"Female\"]}\n",
    "my_dataframe_1 = pd.DataFrame(dict_1)\n",
    "print(my_dataframe_1)\n",
    "\n",
    "print(\" \")   # just for line break\n",
    "\n",
    "# By using list of dictionaries\n",
    "my_array_1 = [{\"Name\" : \"Alice\", \"Age\" : 25, \"Gender\" : \"Female\"}, {\"Name\" : \"Bob\", \"Age\" : 30, \"Gender\" : \"Male\"},\n",
    "             {\"Name\" : \"Claire\", \"Age\" : 27, \"Gender\" : \"Female\"}]\n",
    "my_dataframe_2 = pd.DataFrame(my_array_1)\n",
    "print(my_dataframe_2)\n",
    "\n",
    "print(\"\")  # For line breaks\n",
    "\n",
    "# By using tuples\n",
    "my_tuples = [(\"Alice\", 25, \"Female\"), (\"Bob\", 30, \"Male\"), (\"Claire\", 27, \"Female\")]\n",
    "my_columns = [\"Name\", \"Age\", \"Gender\"]\n",
    "my_dataframe_3 = pd.DataFrame(my_tuples, columns = my_columns)\n",
    "print(my_dataframe_3)\n",
    "\n",
    "\n",
    "# There are many more methods but the third one i feel is easy to use"
   ]
  },
  {
   "cell_type": "code",
   "execution_count": 5,
   "id": "5cb2d4d0-06b5-4cde-9c96-60676a5e87eb",
   "metadata": {},
   "outputs": [
    {
     "name": "stdout",
     "output_type": "stream",
     "text": [
      "This is a DataFrame\n",
      "     Name  Age  Gender\n",
      "0   Alice   25  Female\n",
      "1     Bob   30    Male\n",
      "2  Claire   27  Female\n",
      "\n",
      "This is Pandas Series\n",
      "a     4\n",
      "b     8\n",
      "c    15\n",
      "d    23\n",
      "e    42\n",
      "dtype: int64\n"
     ]
    }
   ],
   "source": [
    "\"\"\" Q4. What is ‘DataFrame’ in pandas and how is it different from pandas.series? Explain with an example. \"\"\"\n",
    "\n",
    "\"\"\"In Pandas, a DataFrame is a 2-dimensional labeled data structure that can store data of different types \n",
    "(numeric, string, boolean, etc.) in columns. It is similar to a spreadsheet or a SQL table, where each column \n",
    "can have a different data type. A DataFrame can be thought of as a collection of Pandas Series that share the same index.\n",
    "\n",
    "On the other hand, a Pandas Series is a one-dimensional labeled array that can hold data of any type. It can be created\n",
    "from a list, array, dictionary, or other data structures, and each element in the Series is associated with a unique label,\n",
    "called the index.\"\"\"\n",
    "\n",
    "\n",
    "# creating dataframe\n",
    "# By using dictionary\n",
    "print(\"This is a DataFrame\")\n",
    "dict_1 = {\"Name\" : [\"Alice\", \"Bob\", \"Claire\"], \"Age\" : [25, 30, 27], \"Gender\" : [\"Female\", \"Male\", \"Female\"]}\n",
    "my_dataframe_1 = pd.DataFrame(dict_1)\n",
    "print(my_dataframe_1)\n",
    "\n",
    "\n",
    "print(\"\") # for line break\n",
    "\n",
    "# creating Series\n",
    "# By using dictionaries\n",
    "print(\"This is Pandas Series\")\n",
    "dictionary = {\"a\" : 4, \"b\" : 8, \"c\" : 15, \"d\" : 23, \"e\" : 42}  # we can use our own keys and data in values\n",
    "series_2 = pd.Series(dictionary)\n",
    "print(series_2)\n",
    "\n"
   ]
  },
  {
   "cell_type": "code",
   "execution_count": 6,
   "id": "8322971a-6522-40eb-bdda-051dc9541ed4",
   "metadata": {},
   "outputs": [
    {
     "name": "stdout",
     "output_type": "stream",
     "text": [
      "\n"
     ]
    }
   ],
   "source": [
    "\"\"\" Q5. What are some common functions you can use to manipulate data in a Pandas DataFrame? Can\n",
    "you give an example of when you might use one of these functions? \"\"\"\n",
    "\n",
    "\n",
    "\n",
    "# There are many functions we use to manipulate data in pandas data frame, some of them are\n",
    "\n",
    "# head() \n",
    "\"\"\" this is used to read top entries, its default value is 5 but we can enter any value and it will show that\n",
    "number of entries from start \"\"\"\n",
    " \n",
    "# tail()\n",
    "\"\"\" this is used to read entries from last, default value of this is also 5 but we can enter any value and it will show that\n",
    "number of entries from end \"\"\"\n",
    "\n",
    "# column\n",
    "\"\"\" this is used to get list of columns in data frame \"\"\"\n",
    "\n",
    "# info()\n",
    "\"\"\"  This function provides a summary of the DataFrame, including the data types of each column, the number of non-null\n",
    "values, and the memory usage. \"\"\"\n",
    "\n",
    "print(\"\")\n"
   ]
  },
  {
   "cell_type": "code",
   "execution_count": 7,
   "id": "ee422505-5f7f-4d7d-8d4e-885da2345ead",
   "metadata": {},
   "outputs": [
    {
     "name": "stdout",
     "output_type": "stream",
     "text": [
      "\n"
     ]
    }
   ],
   "source": [
    "\"\"\" Q6. Which of the following is mutable in nature Series, DataFrame, Panel? \"\"\"\n",
    "\n",
    "# Series and dataframes are mutable as we can change data in it but Panel is not mutable\n",
    "# Also Panel is not used so much as compared to Series and Dataframes\n",
    "print(\"\")"
   ]
  },
  {
   "cell_type": "code",
   "execution_count": 11,
   "id": "9da999d4-9091-4b51-824b-ada7153a79cc",
   "metadata": {},
   "outputs": [
    {
     "name": "stdout",
     "output_type": "stream",
     "text": [
      "     Name  Age  Gender\n",
      "0   Alice   25  Female\n",
      "1     Bob   20    Male\n",
      "2  Claire   27  Female\n"
     ]
    }
   ],
   "source": [
    "\"\"\" Q7. Create a DataFrame using multiple Series. Explain with an example.\"\"\"\n",
    "\n",
    "# We can create a DataFrame using multiple series by concatenating them\n",
    "# lets do 3rd Question again by this method\\\n",
    "\n",
    "# creating 3 series\n",
    "series_1 = pd.Series([\"Alice\", \"Bob\", \"Claire\"], name = \"Name\")\n",
    "series_2 = pd.Series([25, 20, 27], name = \"Age\")\n",
    "series_3 = pd.Series([\"Female\", \"Male\", \"Female\"], name = \"Gender\")\n",
    "\n",
    "# now i need to concatenate using column axis\n",
    "df = pd.concat([series_1, series_2, series_3], axis = 1)  # axis = 0 if we want to concat around indexes \n",
    "# axis = 1 means concatenate using columns\n",
    "\n",
    "\n",
    "# print dataframe\n",
    "print(df)"
   ]
  },
  {
   "cell_type": "code",
   "execution_count": null,
   "id": "d6d5b07f-78b0-4013-9382-8e5dd57e2ee3",
   "metadata": {},
   "outputs": [],
   "source": []
  }
 ],
 "metadata": {
  "kernelspec": {
   "display_name": "Python 3 (ipykernel)",
   "language": "python",
   "name": "python3"
  },
  "language_info": {
   "codemirror_mode": {
    "name": "ipython",
    "version": 3
   },
   "file_extension": ".py",
   "mimetype": "text/x-python",
   "name": "python",
   "nbconvert_exporter": "python",
   "pygments_lexer": "ipython3",
   "version": "3.10.8"
  }
 },
 "nbformat": 4,
 "nbformat_minor": 5
}
